{
 "cells": [
  {
   "cell_type": "markdown",
   "metadata": {},
   "source": [
    "**Prerequisites**: \n",
    "    - numpy\n",
    "    - straph\n",
    "    - matplotlib\n",
    "    - seaborn\n",
    "    - networkx"
   ]
  },
  {
   "cell_type": "code",
   "execution_count": 1,
   "metadata": {},
   "outputs": [],
   "source": [
    "import os\n",
    "import numpy as np\n",
    "import matplotlib.pyplot as plt"
   ]
  },
  {
   "cell_type": "code",
   "execution_count": 2,
   "metadata": {},
   "outputs": [],
   "source": [
    "from straph import stream as sg\n",
    "import straph.generators as gen"
   ]
  },
  {
   "cell_type": "code",
   "execution_count": 3,
   "metadata": {},
   "outputs": [],
   "source": [
    "plt.rcParams[\"figure.figsize\"] = (20,10)"
   ]
  },
  {
   "cell_type": "markdown",
   "metadata": {},
   "source": [
    "# Temporal Paths in Stream Graph"
   ]
  },
  {
   "cell_type": "markdown",
   "metadata": {},
   "source": [
    "In this tutorial we will use the example below, feel free to change it (cf: Notebook on random stream graphs)."
   ]
  },
  {
   "cell_type": "code",
   "execution_count": 4,
   "metadata": {},
   "outputs": [
    {
     "name": "stdout",
     "output_type": "stream",
     "text": [
      "Nb of Nodes :  6\n",
      "Nb of segmented nodes :  11.0\n",
      "Nb of links :  7\n",
      "Nb of segmented links :  10.0\n"
     ]
    }
   ],
   "source": [
    "path_directory = os.getcwd()+\"/examples/\"\n",
    "S = sg.read_stream_graph(path_nodes=path_directory + \"example_nodes.sg\",\n",
    "                      path_links=path_directory + \"example_links.sg\")\n",
    "S.describe()"
   ]
  },
  {
   "cell_type": "code",
   "execution_count": 5,
   "metadata": {},
   "outputs": [
    {
     "data": {
      "image/png": "[encoded data removed]",
      "text/plain": [
       "<Figure size 1440x720 with 1 Axes>"
      ]
     },
     "metadata": {},
     "output_type": "display_data"
    }
   ],
   "source": [
    "S.plot()"
   ]
  },
  {
   "cell_type": "markdown",
   "metadata": {},
   "source": [
    "In the following we use Straph's API to compute different types of temporal paths."
   ]
  },
  {
   "cell_type": "markdown",
   "metadata": {},
   "source": [
    " We can consider two types of source and destination : a temporal node $(t_0,t_1,v) \\in \\overline{W}$ or a node $u \\in V$.\n",
    "Resulting in 4 types of paths:\n",
    "    - temporal source -> destination\n",
    "    - temporal source -> temporal destination\n",
    "    - source -> temporal destination\n",
    "    - source -> destination"
   ]
  },
  {
   "cell_type": "markdown",
   "metadata": {},
   "source": [
    "We consider the following types of temporal paths and their corresponding features:\n",
    "    - Foremost Path - Time To Reach\n",
    "    - Fastest Path - Latency\n",
    "    - Shortest Path - Distance\n",
    "    - Foremost Shortest Path - Distance, Duration\n",
    "    - Fastest Shortest Path - Distance, Duration\n",
    "    - Shortest Fastest Path - Latency, Length"
   ]
  },
  {
   "cell_type": "code",
   "execution_count": 6,
   "metadata": {},
   "outputs": [],
   "source": [
    "label_to_node = {v:k for k,v in S.node_to_label.items()}"
   ]
  },
  {
   "cell_type": "markdown",
   "metadata": {},
   "source": [
    "# 1. Source - Destination Paths Algorithms"
   ]
  },
  {
   "cell_type": "markdown",
   "metadata": {},
   "source": [
    "## 1.1 Foremost Path"
   ]
  },
  {
   "cell_type": "markdown",
   "metadata": {},
   "source": [
    "Let's start with a temporal source and a temporal destination."
   ]
  },
  {
   "cell_type": "code",
   "execution_count": 7,
   "metadata": {},
   "outputs": [],
   "source": [
    "source = (0,5,label_to_node['A']) \n",
    "destination = (8,10,label_to_node['D']) "
   ]
  },
  {
   "cell_type": "markdown",
   "metadata": {},
   "source": [
    "Let's compute the time to reach (8,10,D) from (0,5,A). By default the starting time is $b$ if the source is $(b,e,u)$."
   ]
  },
  {
   "cell_type": "code",
   "execution_count": 8,
   "metadata": {},
   "outputs": [
    {
     "data": {
      "text/plain": [
       "9.0"
      ]
     },
     "execution_count": 8,
     "metadata": {},
     "output_type": "execute_result"
    }
   ],
   "source": [
    "ttr = S.times_to_reach(source,destination)\n",
    "ttr"
   ]
  },
  {
   "cell_type": "markdown",
   "metadata": {},
   "source": [
    "We can specify a starting time, which belong to the temporal source (obviously), let's say 4."
   ]
  },
  {
   "cell_type": "code",
   "execution_count": 9,
   "metadata": {},
   "outputs": [
    {
     "data": {
      "text/plain": [
       "5.0"
      ]
     },
     "execution_count": 9,
     "metadata": {},
     "output_type": "execute_result"
    }
   ],
   "source": [
    "source = (0,5,label_to_node['A']) \n",
    "destination = (8,10,label_to_node['D']) \n",
    "start_time = 4\n",
    "ttr = S.times_to_reach(source,destination,start_time)\n",
    "ttr"
   ]
  },
  {
   "cell_type": "markdown",
   "metadata": {},
   "source": [
    "Now, with a source node and a temporal destination:"
   ]
  },
  {
   "cell_type": "code",
   "execution_count": 10,
   "metadata": {},
   "outputs": [
    {
     "data": {
      "text/plain": [
       "2.0"
      ]
     },
     "execution_count": 10,
     "metadata": {},
     "output_type": "execute_result"
    }
   ],
   "source": [
    "source = label_to_node['A']\n",
    "destination = (8,10,label_to_node['D'])\n",
    "ttr = S.times_to_reach(source,destination)\n",
    "ttr"
   ]
  },
  {
   "cell_type": "markdown",
   "metadata": {},
   "source": [
    "Let's add a starting time:"
   ]
  },
  {
   "cell_type": "code",
   "execution_count": 11,
   "metadata": {},
   "outputs": [
    {
     "data": {
      "text/plain": [
       "inf"
      ]
     },
     "execution_count": 11,
     "metadata": {},
     "output_type": "execute_result"
    }
   ],
   "source": [
    "source = label_to_node['A']\n",
    "destination = (8,10,label_to_node['D'])\n",
    "start_time = 8\n",
    "ttr = S.times_to_reach(source,destination,start_time)\n",
    "ttr"
   ]
  },
  {
   "cell_type": "markdown",
   "metadata": {},
   "source": [
    "Finally with a source node and a destination node:"
   ]
  },
  {
   "cell_type": "code",
   "execution_count": 12,
   "metadata": {},
   "outputs": [
    {
     "data": {
      "text/plain": [
       "2.0"
      ]
     },
     "execution_count": 12,
     "metadata": {},
     "output_type": "execute_result"
    }
   ],
   "source": [
    "source = label_to_node['A']\n",
    "destination = label_to_node['D']\n",
    "ttr = S.times_to_reach(source,destination)\n",
    "ttr"
   ]
  },
  {
   "cell_type": "markdown",
   "metadata": {},
   "source": [
    "Let's add a starting time:"
   ]
  },
  {
   "cell_type": "code",
   "execution_count": 13,
   "metadata": {},
   "outputs": [
    {
     "data": {
      "text/plain": [
       "6.0"
      ]
     },
     "execution_count": 13,
     "metadata": {},
     "output_type": "execute_result"
    }
   ],
   "source": [
    "source = label_to_node['A']\n",
    "destination = label_to_node['D']\n",
    "start_time = 3\n",
    "ttr = S.times_to_reach(source,destination,start_time)\n",
    "ttr"
   ]
  },
  {
   "cell_type": "markdown",
   "metadata": {},
   "source": [
    "The API is the same for all type of minimum temporal path (the start_time option is only available for foremost path and shortest foremost path)."
   ]
  },
  {
   "cell_type": "markdown",
   "metadata": {},
   "source": [
    "## 1.2 Shortest Foremost Path"
   ]
  },
  {
   "cell_type": "code",
   "execution_count": 14,
   "metadata": {},
   "outputs": [
    {
     "data": {
      "text/plain": [
       "(9.0, 3)"
      ]
     },
     "execution_count": 14,
     "metadata": {},
     "output_type": "execute_result"
    }
   ],
   "source": [
    "source = (0,5,label_to_node['A']) \n",
    "destination = (8,10,label_to_node['D']) \n",
    "ttr,length = S.times_to_reach_and_lengths(source,destination)\n",
    "ttr,length"
   ]
  },
  {
   "cell_type": "code",
   "execution_count": 15,
   "metadata": {},
   "outputs": [
    {
     "data": {
      "text/plain": [
       "(5.0, 3)"
      ]
     },
     "execution_count": 15,
     "metadata": {},
     "output_type": "execute_result"
    }
   ],
   "source": [
    "source = (0,5,label_to_node['A']) \n",
    "destination = (8,10,label_to_node['D']) \n",
    "start_time = 4\n",
    "ttr = S.times_to_reach_and_lengths(source,destination,start_time)\n",
    "ttr"
   ]
  },
  {
   "cell_type": "markdown",
   "metadata": {},
   "source": [
    "## 1.3 Shortest Path"
   ]
  },
  {
   "cell_type": "code",
   "execution_count": 16,
   "metadata": {},
   "outputs": [
    {
     "data": {
      "text/plain": [
       "3"
      ]
     },
     "execution_count": 16,
     "metadata": {},
     "output_type": "execute_result"
    }
   ],
   "source": [
    "source = (0,5,label_to_node['A']) \n",
    "destination = (8,10,label_to_node['D']) \n",
    "distances = S.distances(source,destination)\n",
    "distances"
   ]
  },
  {
   "cell_type": "code",
   "execution_count": 17,
   "metadata": {},
   "outputs": [
    {
     "data": {
      "text/plain": [
       "3"
      ]
     },
     "execution_count": 17,
     "metadata": {},
     "output_type": "execute_result"
    }
   ],
   "source": [
    "source = label_to_node['A']\n",
    "destination = label_to_node['D']\n",
    "distances = S.distances(source,destination)\n",
    "distances"
   ]
  },
  {
   "cell_type": "markdown",
   "metadata": {},
   "source": [
    "## 1.4 Fastest Shortest Path"
   ]
  },
  {
   "cell_type": "code",
   "execution_count": 18,
   "metadata": {},
   "outputs": [
    {
     "data": {
      "text/plain": [
       "(3, 5.0)"
      ]
     },
     "execution_count": 18,
     "metadata": {},
     "output_type": "execute_result"
    }
   ],
   "source": [
    "source = (0,5,label_to_node['A']) \n",
    "destination = (8,10,label_to_node['D']) \n",
    "distances,durations = S.distances_and_durations(source,destination)\n",
    "distances,durations"
   ]
  },
  {
   "cell_type": "code",
   "execution_count": 19,
   "metadata": {},
   "outputs": [
    {
     "data": {
      "text/plain": [
       "(3, 5.0)"
      ]
     },
     "execution_count": 19,
     "metadata": {},
     "output_type": "execute_result"
    }
   ],
   "source": [
    "source = label_to_node['A']\n",
    "destination = label_to_node['D']\n",
    "distances,durations = S.distances_and_durations(source,destination)\n",
    "distances,durations"
   ]
  },
  {
   "cell_type": "markdown",
   "metadata": {},
   "source": [
    "## 1.5 Fastest Path"
   ]
  },
  {
   "cell_type": "code",
   "execution_count": 20,
   "metadata": {},
   "outputs": [
    {
     "data": {
      "text/plain": [
       "5.0"
      ]
     },
     "execution_count": 20,
     "metadata": {},
     "output_type": "execute_result"
    }
   ],
   "source": [
    "source = (0,5,label_to_node['A']) \n",
    "destination = (8,10,label_to_node['D']) \n",
    "latencies = S.latencies(source,destination)\n",
    "latencies"
   ]
  },
  {
   "cell_type": "code",
   "execution_count": 21,
   "metadata": {},
   "outputs": [
    {
     "data": {
      "text/plain": [
       "2.0"
      ]
     },
     "execution_count": 21,
     "metadata": {},
     "output_type": "execute_result"
    }
   ],
   "source": [
    "source = label_to_node['A']\n",
    "destination = label_to_node['D']\n",
    "latencies = S.latencies(source,destination)\n",
    "latencies"
   ]
  },
  {
   "cell_type": "markdown",
   "metadata": {},
   "source": [
    "## 1.6 Shortest Fastest Path"
   ]
  },
  {
   "cell_type": "code",
   "execution_count": 22,
   "metadata": {},
   "outputs": [
    {
     "data": {
      "text/plain": [
       "(5.0, 3)"
      ]
     },
     "execution_count": 22,
     "metadata": {},
     "output_type": "execute_result"
    }
   ],
   "source": [
    "source = (0,5,label_to_node['A']) \n",
    "destination = (8,10,label_to_node['D']) \n",
    "latencies,lengths = S.latencies_and_lengths(source,destination)\n",
    "latencies,lengths"
   ]
  },
  {
   "cell_type": "code",
   "execution_count": 23,
   "metadata": {},
   "outputs": [
    {
     "data": {
      "text/plain": [
       "(2.0, 3)"
      ]
     },
     "execution_count": 23,
     "metadata": {},
     "output_type": "execute_result"
    }
   ],
   "source": [
    "source = label_to_node['A']\n",
    "destination = label_to_node['D']\n",
    "latencies,lengths = S.latencies_and_lengths(source,destination)\n",
    "latencies,lengths"
   ]
  },
  {
   "cell_type": "markdown",
   "metadata": {},
   "source": [
    "# 2. Single Source Paths Algorithms"
   ]
  },
  {
   "cell_type": "markdown",
   "metadata": {},
   "source": [
    "The input for a single source can be a source node or a temporal source node."
   ]
  },
  {
   "cell_type": "code",
   "execution_count": 24,
   "metadata": {},
   "outputs": [
    {
     "data": {
      "text/plain": [
       "{0: 0, 1: 0.0, 4: 4.0, 2: 6.0, 5: 7.0, 3: 9.0}"
      ]
     },
     "execution_count": 24,
     "metadata": {},
     "output_type": "execute_result"
    }
   ],
   "source": [
    "source = (0,5,label_to_node['A'])\n",
    "ttr = S.times_to_reach(source)\n",
    "ttr"
   ]
  },
  {
   "cell_type": "code",
   "execution_count": 25,
   "metadata": {},
   "outputs": [
    {
     "data": {
      "text/plain": [
       "{0: 0, 1: 0, 4: 1.0, 2: 3.0, 5: 4.0, 3: 6.0}"
      ]
     },
     "execution_count": 25,
     "metadata": {},
     "output_type": "execute_result"
    }
   ],
   "source": [
    "source = (0,5,label_to_node['A'])\n",
    "start_time = 3\n",
    "ttr = S.times_to_reach(source,start_time=start_time)\n",
    "ttr"
   ]
  },
  {
   "cell_type": "code",
   "execution_count": 26,
   "metadata": {},
   "outputs": [
    {
     "data": {
      "text/plain": [
       "{0: 0.0, 1: 0.0, 4: 0.0, 2: 0.0, 5: 0.0, 3: 2.0}"
      ]
     },
     "execution_count": 26,
     "metadata": {},
     "output_type": "execute_result"
    }
   ],
   "source": [
    "source = label_to_node['A']\n",
    "ttr = S.times_to_reach(source)\n",
    "ttr"
   ]
  },
  {
   "cell_type": "code",
   "execution_count": 27,
   "metadata": {},
   "outputs": [
    {
     "data": {
      "text/plain": [
       "{0: 0, 1: 0.0, 2: 0.0, 4: 0.0, 5: 0.0, 3: 2.0}"
      ]
     },
     "execution_count": 27,
     "metadata": {},
     "output_type": "execute_result"
    }
   ],
   "source": [
    "source = label_to_node['A']\n",
    "start_time = 7\n",
    "ttr = S.times_to_reach(source,start_time=start_time)\n",
    "ttr"
   ]
  },
  {
   "cell_type": "markdown",
   "metadata": {},
   "source": [
    "FSP"
   ]
  },
  {
   "cell_type": "code",
   "execution_count": 28,
   "metadata": {},
   "outputs": [
    {
     "data": {
      "text/plain": [
       "({0: 0, 1: 1, 4: 2, 2: 2, 5: 3, 3: 3},\n",
       " {0: 0, 1: 0, 4: 0.0, 2: 0, 5: 3.0, 3: 5.0})"
      ]
     },
     "execution_count": 28,
     "metadata": {},
     "output_type": "execute_result"
    }
   ],
   "source": [
    "source = label_to_node['A']\n",
    "distances,durations = S.distances_and_durations(source)\n",
    "distances,durations"
   ]
  },
  {
   "cell_type": "markdown",
   "metadata": {},
   "source": [
    "SFP"
   ]
  },
  {
   "cell_type": "code",
   "execution_count": 29,
   "metadata": {},
   "outputs": [
    {
     "data": {
      "text/plain": [
       "({0: 0, 1: 0, 4: 0.0, 2: 0, 5: 0.0, 3: 2.0},\n",
       " {0: 0, 1: 1, 4: 2, 2: 2, 5: 3, 3: 3})"
      ]
     },
     "execution_count": 29,
     "metadata": {},
     "output_type": "execute_result"
    }
   ],
   "source": [
    "source = label_to_node['A']\n",
    "latencies,lengths = S.latencies_and_lengths(source)\n",
    "latencies,lengths"
   ]
  },
  {
   "cell_type": "markdown",
   "metadata": {},
   "source": [
    "# 3. Pairwise Paths Algorithms"
   ]
  },
  {
   "cell_type": "markdown",
   "metadata": {},
   "source": [
    "We can also use a Pairwise Algorithm to compute all paths pairwise in the Stream Graph."
   ]
  },
  {
   "cell_type": "code",
   "execution_count": 30,
   "metadata": {},
   "outputs": [
    {
     "name": "stdout",
     "output_type": "stream",
     "text": [
      "source : A\n",
      "\t destination : A ttr : 0.0\n",
      "\t destination : B ttr : 0.0\n",
      "\t destination : E ttr : 4.0\n",
      "\t destination : C ttr : 6.0\n",
      "\t destination : F ttr : 7.0\n",
      "\t destination : D ttr : 9.0\n",
      "source : A\n",
      "\t destination : A ttr : 0.0\n",
      "\t destination : B ttr : 0.0\n",
      "\t destination : C ttr : 0.0\n",
      "\t destination : E ttr : 0.0\n",
      "\t destination : F ttr : 0.0\n",
      "\t destination : D ttr : 2.0\n",
      "source : B\n",
      "\t destination : B ttr : 0.0\n",
      "\t destination : A ttr : 0.0\n",
      "\t destination : E ttr : 4.0\n",
      "\t destination : C ttr : 6.0\n",
      "\t destination : F ttr : 7.0\n",
      "\t destination : D ttr : 9.0\n",
      "source : C\n",
      "\t destination : C ttr : 0.0\n",
      "\t destination : D ttr : 0.0\n",
      "source : C\n",
      "\t destination : C ttr : 0.0\n",
      "\t destination : B ttr : 0.0\n",
      "\t destination : A ttr : 1.0\n",
      "\t destination : E ttr : 1.0\n",
      "\t destination : F ttr : 1.0\n",
      "\t destination : D ttr : 3.0\n",
      "source : D\n",
      "\t destination : D ttr : 0.0\n",
      "\t destination : C ttr : 0.0\n",
      "source : D\n",
      "\t destination : D ttr : 0.0\n",
      "\t destination : E ttr : 0.0\n",
      "\t destination : F ttr : 0.0\n",
      "\t destination : B ttr : 2.0\n",
      "\t destination : A ttr : 2.0\n",
      "\t destination : C ttr : 4.0\n",
      "source : D\n",
      "\t destination : D ttr : 0.0\n",
      "\t destination : E ttr : 1.0\n",
      "\t destination : F ttr : 1.0\n",
      "source : E\n",
      "\t destination : E ttr : 0.0\n",
      "\t destination : F ttr : 0.0\n",
      "\t destination : D ttr : 2.0\n",
      "\t destination : B ttr : 4.0\n",
      "\t destination : A ttr : 4.0\n",
      "\t destination : C ttr : 6.0\n",
      "source : F\n",
      "\t destination : F ttr : 0.0\n",
      "\t destination : E ttr : 0.0\n",
      "\t destination : D ttr : 2.0\n",
      "\t destination : B ttr : 4.0\n",
      "\t destination : A ttr : 4.0\n",
      "\t destination : C ttr : 6.0\n",
      "source : F\n",
      "\t destination : F ttr : 0.0\n",
      "\t destination : E ttr : 0.0\n",
      "\t destination : C ttr : 0.0\n",
      "\t destination : B ttr : 0.0\n",
      "\t destination : A ttr : 0.0\n",
      "\t destination : D ttr : 2.0\n"
     ]
    }
   ],
   "source": [
    "all_ttr = S.times_to_reach()\n",
    "for s in all_ttr:\n",
    "    print(\"source :\",S.node_to_label[s[2]])\n",
    "    for d in all_ttr[s]:\n",
    "        print(\"\\t destination :\",S.node_to_label[d], \"ttr :\",all_ttr[s][d])"
   ]
  },
  {
   "cell_type": "code",
   "execution_count": 31,
   "metadata": {},
   "outputs": [
    {
     "name": "stdout",
     "output_type": "stream",
     "text": [
      "source : A\n",
      "\t destination : A distance : 0\n",
      "\t destination : B distance : 1\n",
      "\t destination : E distance : 2\n",
      "\t destination : C distance : 2\n",
      "\t destination : F distance : 3\n",
      "\t destination : D distance : 3\n",
      "source : A\n",
      "\t destination : A distance : 0\n",
      "\t destination : B distance : 1\n",
      "\t destination : C distance : 2\n",
      "\t destination : E distance : 3\n",
      "\t destination : F distance : 4\n",
      "\t destination : D distance : 4\n",
      "source : B\n",
      "\t destination : B distance : 0\n",
      "\t destination : A distance : 1\n",
      "\t destination : E distance : 1\n",
      "\t destination : C distance : 1\n",
      "\t destination : F distance : 2\n",
      "\t destination : D distance : 2\n",
      "source : C\n",
      "\t destination : C distance : 0\n",
      "\t destination : D distance : 1\n",
      "source : C\n",
      "\t destination : C distance : 0\n",
      "\t destination : B distance : 1\n",
      "\t destination : A distance : 2\n",
      "\t destination : E distance : 1\n",
      "\t destination : F distance : 2\n",
      "\t destination : D distance : 2\n",
      "source : D\n",
      "\t destination : D distance : 0\n",
      "\t destination : C distance : 1\n",
      "source : D\n",
      "\t destination : D distance : 0\n",
      "\t destination : E distance : 1\n",
      "\t destination : F distance : 2\n",
      "\t destination : B distance : 2\n",
      "\t destination : A distance : 3\n",
      "\t destination : C distance : 2\n",
      "source : D\n",
      "\t destination : D distance : 0\n",
      "\t destination : E distance : 1\n",
      "\t destination : F distance : 2\n",
      "source : E\n",
      "\t destination : E distance : 0\n",
      "\t destination : F distance : 1\n",
      "\t destination : D distance : 1\n",
      "\t destination : B distance : 1\n",
      "\t destination : A distance : 2\n",
      "\t destination : C distance : 1\n",
      "source : F\n",
      "\t destination : F distance : 0\n",
      "\t destination : E distance : 1\n",
      "\t destination : D distance : 2\n",
      "\t destination : B distance : 2\n",
      "\t destination : A distance : 3\n",
      "\t destination : C distance : 2\n",
      "source : F\n",
      "\t destination : F distance : 0\n",
      "\t destination : E distance : 1\n",
      "\t destination : C distance : 2\n",
      "\t destination : B distance : 3\n",
      "\t destination : A distance : 4\n",
      "\t destination : D distance : 2\n"
     ]
    }
   ],
   "source": [
    "all_distances = S.distances()\n",
    "for s in all_distances:\n",
    "    print(\"source :\",S.node_to_label[s[2]])\n",
    "    for d in all_distances[s]:\n",
    "        print(\"\\t destination :\",S.node_to_label[d], \"distance :\",all_distances[s][d])"
   ]
  },
  {
   "cell_type": "code",
   "execution_count": 32,
   "metadata": {},
   "outputs": [
    {
     "name": "stdout",
     "output_type": "stream",
     "text": [
      "source : A\n",
      "\t destination : A distances : 0  duration : 0\n",
      "\t destination : B distances : 1  duration : 0\n",
      "\t destination : E distances : 2  duration : 0.0\n",
      "\t destination : C distances : 2  duration : 2.0\n",
      "\t destination : F distances : 3  duration : 3.0\n",
      "\t destination : D distances : 3  duration : 5.0\n",
      "source : A\n",
      "\t destination : A distances : 0  duration : 0\n",
      "\t destination : B distances : 1  duration : 0\n",
      "\t destination : C distances : 2  duration : 0\n",
      "\t destination : E distances : 3  duration : 0.0\n",
      "\t destination : F distances : 4  duration : 0.0\n",
      "\t destination : D distances : 4  duration : 2.0\n",
      "source : B\n",
      "\t destination : B distances : 0  duration : 0\n",
      "\t destination : A distances : 1  duration : 0\n",
      "\t destination : E distances : 1  duration : 0.0\n",
      "\t destination : C distances : 1  duration : 0\n",
      "\t destination : F distances : 2  duration : 3.0\n",
      "\t destination : D distances : 2  duration : 5.0\n",
      "source : C\n",
      "\t destination : C distances : 0  duration : 0\n",
      "\t destination : D distances : 1  duration : 0\n",
      "source : C\n",
      "\t destination : C distances : 0  duration : 0\n",
      "\t destination : B distances : 1  duration : 0\n",
      "\t destination : A distances : 2  duration : 0\n",
      "\t destination : E distances : 1  duration : 0.0\n",
      "\t destination : F distances : 2  duration : 0.0\n",
      "\t destination : D distances : 2  duration : 2.0\n",
      "source : D\n",
      "\t destination : D distances : 0  duration : 0\n",
      "\t destination : C distances : 1  duration : 0\n",
      "source : D\n",
      "\t destination : D distances : 0  duration : 0\n",
      "\t destination : E distances : 1  duration : 0\n",
      "\t destination : F distances : 2  duration : 0\n",
      "\t destination : B distances : 2  duration : 1.0\n",
      "\t destination : A distances : 3  duration : 1.0\n",
      "\t destination : C distances : 2  duration : 4.0\n",
      "source : D\n",
      "\t destination : D distances : 0  duration : 0\n",
      "\t destination : E distances : 1  duration : 0\n",
      "\t destination : F distances : 2  duration : 0\n",
      "source : E\n",
      "\t destination : E distances : 0  duration : 0\n",
      "\t destination : F distances : 1  duration : 0\n",
      "\t destination : D distances : 1  duration : 0\n",
      "\t destination : B distances : 1  duration : 0.0\n",
      "\t destination : A distances : 2  duration : 0.0\n",
      "\t destination : C distances : 1  duration : 0.0\n",
      "source : F\n",
      "\t destination : F distances : 0  duration : 0\n",
      "\t destination : E distances : 1  duration : 0\n",
      "\t destination : D distances : 2  duration : 0\n",
      "\t destination : B distances : 2  duration : 1.0\n",
      "\t destination : A distances : 3  duration : 1.0\n",
      "\t destination : C distances : 2  duration : 4.0\n",
      "source : F\n",
      "\t destination : F distances : 0  duration : 0\n",
      "\t destination : E distances : 1  duration : 0\n",
      "\t destination : C distances : 2  duration : 0.0\n",
      "\t destination : B distances : 3  duration : 0.0\n",
      "\t destination : A distances : 4  duration : 0.0\n",
      "\t destination : D distances : 2  duration : 0\n"
     ]
    }
   ],
   "source": [
    "all_distances,all_durations = S.distances_and_durations()\n",
    "for s in all_distances:\n",
    "    print(\"source :\",S.node_to_label[s[2]])\n",
    "    for d in all_distances[s]:\n",
    "        print(\"\\t destination :\",S.node_to_label[d], \"distances :\",all_distances[s][d],\" duration :\",all_durations[s][d])"
   ]
  },
  {
   "cell_type": "code",
   "execution_count": 33,
   "metadata": {},
   "outputs": [
    {
     "name": "stdout",
     "output_type": "stream",
     "text": [
      "source : A\n",
      "\t destination : A latency : 0  length: 0\n",
      "\t destination : B latency : 0  length: 1\n",
      "\t destination : E latency : 0.0  length: 2\n",
      "\t destination : C latency : 2.0  length: 2\n",
      "\t destination : F latency : 3.0  length: 3\n",
      "\t destination : D latency : 5.0  length: 3\n",
      "source : A\n",
      "\t destination : A latency : 0  length: 0\n",
      "\t destination : B latency : 0  length: 1\n",
      "\t destination : C latency : 0  length: 2\n",
      "\t destination : E latency : 0.0  length: 3\n",
      "\t destination : F latency : 0.0  length: 4\n",
      "\t destination : D latency : 2.0  length: 4\n",
      "source : B\n",
      "\t destination : B latency : 0  length: 0\n",
      "\t destination : A latency : 0  length: 1\n",
      "\t destination : E latency : 0.0  length: 1\n",
      "\t destination : C latency : 0  length: 1\n",
      "\t destination : F latency : 0.0  length: 3\n",
      "\t destination : D latency : 2.0  length: 3\n",
      "source : C\n",
      "\t destination : C latency : 0  length: 0\n",
      "\t destination : D latency : 0  length: 1\n",
      "source : C\n",
      "\t destination : C latency : 0  length: 0\n",
      "\t destination : B latency : 0  length: 1\n",
      "\t destination : A latency : 0  length: 2\n",
      "\t destination : E latency : 0.0  length: 1\n",
      "\t destination : F latency : 0.0  length: 2\n",
      "\t destination : D latency : 2.0  length: 2\n",
      "source : D\n",
      "\t destination : D latency : 0  length: 0\n",
      "\t destination : C latency : 0  length: 1\n",
      "source : D\n",
      "\t destination : D latency : 0  length: 0\n",
      "\t destination : E latency : 0  length: 1\n",
      "\t destination : F latency : 0  length: 2\n",
      "\t destination : B latency : 1.0  length: 2\n",
      "\t destination : A latency : 1.0  length: 3\n",
      "\t destination : C latency : 3.0  length: 3\n",
      "source : D\n",
      "\t destination : D latency : 0  length: 0\n",
      "\t destination : E latency : 0  length: 1\n",
      "\t destination : F latency : 0  length: 2\n",
      "source : E\n",
      "\t destination : E latency : 0  length: 0\n",
      "\t destination : F latency : 0  length: 1\n",
      "\t destination : D latency : 0  length: 1\n",
      "\t destination : B latency : 0.0  length: 1\n",
      "\t destination : A latency : 0.0  length: 2\n",
      "\t destination : C latency : 0.0  length: 1\n",
      "source : F\n",
      "\t destination : F latency : 0  length: 0\n",
      "\t destination : E latency : 0  length: 1\n",
      "\t destination : D latency : 0  length: 2\n",
      "\t destination : B latency : 1.0  length: 2\n",
      "\t destination : A latency : 1.0  length: 3\n",
      "\t destination : C latency : 3.0  length: 3\n",
      "source : F\n",
      "\t destination : F latency : 0  length: 0\n",
      "\t destination : E latency : 0  length: 1\n",
      "\t destination : C latency : 0.0  length: 2\n",
      "\t destination : B latency : 0.0  length: 3\n",
      "\t destination : A latency : 0.0  length: 4\n",
      "\t destination : D latency : 0  length: 2\n"
     ]
    }
   ],
   "source": [
    "all_latencies,all_lengths = S.latencies_and_lengths()\n",
    "for s in all_latencies:\n",
    "    print(\"source :\",S.node_to_label[s[2]])\n",
    "    for d in all_latencies[s]:\n",
    "        print(\"\\t destination :\",S.node_to_label[d], \"latency :\",all_latencies[s][d],\" length:\",all_lengths[s][d])"
   ]
  },
  {
   "cell_type": "code",
   "execution_count": null,
   "metadata": {},
   "outputs": [],
   "source": []
  },
  {
   "cell_type": "code",
   "execution_count": null,
   "metadata": {},
   "outputs": [],
   "source": []
  },
  {
   "cell_type": "code",
   "execution_count": 34,
   "metadata": {},
   "outputs": [
    {
     "ename": "AttributeError",
     "evalue": "'stream_graph' object has no attribute 'latencies_ss'",
     "output_type": "error",
     "traceback": [
      "\u001b[0;31m---------------------------------------------------------------------------\u001b[0m",
      "\u001b[0;31mAttributeError\u001b[0m                            Traceback (most recent call last)",
      "\u001b[0;32m<ipython-input-34-c76d74435431>\u001b[0m in \u001b[0;36m<module>\u001b[0;34m()\u001b[0m\n\u001b[1;32m      1\u001b[0m \u001b[0;31m# Fastest Path\u001b[0m\u001b[0;34m\u001b[0m\u001b[0;34m\u001b[0m\u001b[0;34m\u001b[0m\u001b[0m\n\u001b[0;32m----> 2\u001b[0;31m \u001b[0mlatency\u001b[0m \u001b[0;34m=\u001b[0m \u001b[0mS\u001b[0m\u001b[0;34m.\u001b[0m\u001b[0mlatencies_ss\u001b[0m\u001b[0;34m(\u001b[0m\u001b[0msource\u001b[0m\u001b[0;34m)\u001b[0m\u001b[0;34m\u001b[0m\u001b[0;34m\u001b[0m\u001b[0m\n\u001b[0m\u001b[1;32m      3\u001b[0m \u001b[0mlatency_label\u001b[0m \u001b[0;34m=\u001b[0m \u001b[0;34m{\u001b[0m\u001b[0mS\u001b[0m\u001b[0;34m.\u001b[0m\u001b[0mnode_to_label\u001b[0m\u001b[0;34m[\u001b[0m\u001b[0mk\u001b[0m\u001b[0;34m]\u001b[0m\u001b[0;34m:\u001b[0m \u001b[0mlatency\u001b[0m\u001b[0;34m[\u001b[0m\u001b[0mk\u001b[0m\u001b[0;34m]\u001b[0m \u001b[0;32mfor\u001b[0m \u001b[0mk\u001b[0m \u001b[0;32min\u001b[0m \u001b[0mlatency\u001b[0m\u001b[0;34m}\u001b[0m\u001b[0;34m\u001b[0m\u001b[0;34m\u001b[0m\u001b[0m\n\u001b[1;32m      4\u001b[0m \u001b[0mprint\u001b[0m\u001b[0;34m(\u001b[0m\u001b[0;34m\"Latencies :\"\u001b[0m\u001b[0;34m,\u001b[0m\u001b[0mlatency_label\u001b[0m\u001b[0;34m)\u001b[0m\u001b[0;34m\u001b[0m\u001b[0;34m\u001b[0m\u001b[0m\n",
      "\u001b[0;31mAttributeError\u001b[0m: 'stream_graph' object has no attribute 'latencies_ss'"
     ]
    }
   ],
   "source": [
    "# Fastest Path\n",
    "latency = S.latencies_ss(source)\n",
    "latency_label = {S.node_to_label[k]: latency[k] for k in latency}\n",
    "print(\"Latencies :\",latency_label)"
   ]
  },
  {
   "cell_type": "code",
   "execution_count": null,
   "metadata": {},
   "outputs": [],
   "source": [
    "# Shortest Path\n",
    "distance = S.distances_ss(source)\n",
    "distance_label = {S.node_to_label[k]: distance[k] for k in distance}\n",
    "print(\"Distances :\",distance_label)"
   ]
  },
  {
   "cell_type": "code",
   "execution_count": null,
   "metadata": {},
   "outputs": [],
   "source": [
    "# Shortest Foremost Path\n",
    "d,l = S.ttr_and_distance_SFOP_ss(source)\n",
    "d_label = {S.node_to_label[k]: d[k] for k in d}\n",
    "l_label = {S.node_to_label[k]: l[k] for k in l}\n",
    "print(\"Times to Reach :\",l_label)\n",
    "print(\"Lengths :\",d_label)"
   ]
  },
  {
   "cell_type": "code",
   "execution_count": null,
   "metadata": {},
   "outputs": [],
   "source": [
    "# Fastest Shortest Path\n",
    "d,l = S.distance_and_duration_FSP_ss(source)\n",
    "d_label = {S.node_to_label[k]: d[k] for k in d}\n",
    "l_label = {S.node_to_label[k]: l[k] for k in l}\n",
    "print(\"Distances :\",d_label)\n",
    "print(\"Durations :\",l_label)"
   ]
  },
  {
   "cell_type": "code",
   "execution_count": null,
   "metadata": {},
   "outputs": [],
   "source": [
    "# Shortest Fastest Path\n",
    "l,d = S.latency_and_length_SFP_ss(source)\n",
    "d_label = {S.node_to_label[k]: d[k] for k in d}\n",
    "l_label = {S.node_to_label[k]: l[k] for k in l}\n",
    "print(\"Latencies :\",l_label)\n",
    "print(\"Lengths :\",d_label)"
   ]
  },
  {
   "cell_type": "markdown",
   "metadata": {},
   "source": [
    "### 1.1 Temporal Source Node - Temporal Destination Node"
   ]
  },
  {
   "cell_type": "markdown",
   "metadata": {},
   "source": [
    "Firstly we use $L-algorithm$ to compute temporal paths:"
   ]
  },
  {
   "cell_type": "markdown",
   "metadata": {},
   "source": [
    "It is possible to plot these paths on top of the stream graph:"
   ]
  },
  {
   "cell_type": "code",
   "execution_count": null,
   "metadata": {},
   "outputs": [],
   "source": [
    "# Foremost Path\n",
    "ttr = S.time_to_reach(source,destination)\n",
    "fop = S.foremost_path(source,destination)\n",
    "# Fastest Path\n",
    "latency = S.latency(source,destination)\n",
    "fp = S.fastest_path(source,destination)\n",
    "# Shortest Path\n",
    "distance = S.distance(source,destination)\n",
    "sp = S.shortest_path(source,destination)\n",
    "# Shortest Foremost Path\n",
    "d,l = S.ttr_and_distance_SFOP(source,destination)\n",
    "fosp = S.foremost_shortest_path(source,destination)\n",
    "# Fastest Shortest Path\n",
    "d,l = S.distance_and_duration_FSP(source,destination)\n",
    "fsp = S.fastest_shortest_path(source,destination)\n",
    "# Shortest Fastest Path\n",
    "l,d = S.latency_and_duration_SFP(source,destination)\n",
    "sfp = S.shortest_fastest_path(source,destination)"
   ]
  },
  {
   "cell_type": "code",
   "execution_count": null,
   "metadata": {},
   "outputs": [],
   "source": [
    "S.plot_path(fp) # TODO : Import fonctions from path object"
   ]
  },
  {
   "cell_type": "markdown",
   "metadata": {},
   "source": [
    "We can also proceed to separate the stream graph into weakly connected components to enable parallel computation or to speed up the computation."
   ]
  },
  {
   "cell_type": "markdown",
   "metadata": {},
   "source": [
    "TODO : Rajouter les WCC substreams comme des attributs d'un objet avec des dictionnaire reliant label au couple (id wcc,new node) our node au couple (id wcc,new node).\n",
    "    Sur cet objet on peut rajouter des methodes avec l'option parallel = True."
   ]
  },
  {
   "cell_type": "code",
   "execution_count": null,
   "metadata": {},
   "outputs": [],
   "source": [
    "list_wcc, node_to_wcc = S.wcc_as_substreams()"
   ]
  },
  {
   "cell_type": "markdown",
   "metadata": {},
   "source": [
    "We propose alternative methods to compute Foremost Paht and Fastest Path using the Condensation Graph of $S$."
   ]
  },
  {
   "cell_type": "code",
   "execution_count": null,
   "metadata": {},
   "outputs": [],
   "source": [
    "dag = S.condensation_dag()\n",
    "\n",
    "# Foremost Path\n",
    "ttr = dag.time_to_reach(source,destination)\n",
    "fop = dag.foremost_path(source,destination) # Path in DAG (ok)\n",
    "\n",
    "# Fastest Path\n",
    "latency = dag.latency(source,destination)\n",
    "fp = dag.fastest_path(source,destination) # Path in DAG (ok)\n",
    "\n",
    "# Shortest Fastest Path\n",
    "# TODO : Method Hybrid , path should be in S\n",
    "l,d = dag.latency_and_duration_SFP(S,source,destination)\n",
    "sfp = dag.shortest_fastest_path(S,source,destination) # Path In  Stream\n",
    "\n",
    "# Shortest Foremost Path\n",
    "# TODO : Method Hybrid , path should be in S\n",
    "d,l = dag.ttr_and_distance_SFOP(source,destination)\n",
    "fosp = dag.foremost_shortest_path(source,destination) # Path In Stream"
   ]
  },
  {
   "cell_type": "markdown",
   "metadata": {},
   "source": [
    "### 1.2 Source Node - Temporal Destination Node"
   ]
  },
  {
   "cell_type": "code",
   "execution_count": null,
   "metadata": {},
   "outputs": [],
   "source": [
    "source = ('A')\n",
    "destination = (0,8,'B')"
   ]
  },
  {
   "cell_type": "markdown",
   "metadata": {},
   "source": [
    "### 1.3 Temporal Source Node - Destination Node"
   ]
  },
  {
   "cell_type": "code",
   "execution_count": null,
   "metadata": {},
   "outputs": [],
   "source": [
    "source = (0,10,'A')\n",
    "destination = ('B')"
   ]
  },
  {
   "cell_type": "markdown",
   "metadata": {},
   "source": [
    "### 1.4 Source Node - Destination Node"
   ]
  },
  {
   "cell_type": "code",
   "execution_count": null,
   "metadata": {},
   "outputs": [],
   "source": [
    "source = ('A')\n",
    "destination = ('B')"
   ]
  },
  {
   "cell_type": "markdown",
   "metadata": {},
   "source": [
    "# 2: Single Source Paths Algorithms"
   ]
  },
  {
   "cell_type": "markdown",
   "metadata": {},
   "source": [
    "### 2.1 Temporal Source Node - Temporal Destination Nodes"
   ]
  },
  {
   "cell_type": "code",
   "execution_count": null,
   "metadata": {},
   "outputs": [],
   "source": [
    "source = (0,10,'A')\n",
    "destination = (0,8,'B')"
   ]
  },
  {
   "cell_type": "markdown",
   "metadata": {},
   "source": [
    "### 2.2 Source Node - Temporal Destination Nodes"
   ]
  },
  {
   "cell_type": "code",
   "execution_count": null,
   "metadata": {},
   "outputs": [],
   "source": [
    "source = ('A')\n",
    "destination = (0,8,'B')"
   ]
  },
  {
   "cell_type": "markdown",
   "metadata": {},
   "source": [
    "### 2.3 Temporal Source Node - Destination Nodes"
   ]
  },
  {
   "cell_type": "code",
   "execution_count": null,
   "metadata": {},
   "outputs": [],
   "source": [
    "source = (0,10,'A')\n",
    "destination = ('B')"
   ]
  },
  {
   "cell_type": "markdown",
   "metadata": {},
   "source": [
    "### 2.4 Source Node - Destination Nodes"
   ]
  },
  {
   "cell_type": "code",
   "execution_count": null,
   "metadata": {},
   "outputs": [],
   "source": [
    "source = ('A')\n",
    "destination = ('B')"
   ]
  },
  {
   "cell_type": "markdown",
   "metadata": {},
   "source": [
    "# 3: Pairwise Algorithms"
   ]
  },
  {
   "cell_type": "markdown",
   "metadata": {},
   "source": [
    "### 3.1 Temporal Source Nodes - Temporal Destination Nodes"
   ]
  },
  {
   "cell_type": "code",
   "execution_count": null,
   "metadata": {},
   "outputs": [],
   "source": [
    "source = (0,10,'A')\n",
    "destination = (0,8,'B')"
   ]
  },
  {
   "cell_type": "markdown",
   "metadata": {},
   "source": [
    "### 3.2 Source Nodes - Temporal Destination Nodes"
   ]
  },
  {
   "cell_type": "code",
   "execution_count": null,
   "metadata": {},
   "outputs": [],
   "source": [
    "source = ('A')\n",
    "destination = (0,8,'B')"
   ]
  },
  {
   "cell_type": "markdown",
   "metadata": {},
   "source": [
    "### 3.3 Temporal Source Nodes - Destination Nodes"
   ]
  },
  {
   "cell_type": "code",
   "execution_count": null,
   "metadata": {},
   "outputs": [],
   "source": [
    "source = (0,10,'A')\n",
    "destination = ('B')"
   ]
  },
  {
   "cell_type": "markdown",
   "metadata": {},
   "source": [
    "### 3.4 Source Nodes - Destination Nodes"
   ]
  },
  {
   "cell_type": "code",
   "execution_count": null,
   "metadata": {},
   "outputs": [],
   "source": [
    "source = ('A')\n",
    "destination = ('B')"
   ]
  },
  {
   "cell_type": "markdown",
   "metadata": {},
   "source": [
    "# ZBEUL"
   ]
  },
  {
   "cell_type": "code",
   "execution_count": null,
   "metadata": {},
   "outputs": [],
   "source": [
    "for n,np in zip(S.nodes,S.node_presence):\n",
    "    for t0,t1 in zip(np[::2],np[1::2]):\n",
    "        source = (t0,t1,n)\n",
    "        print(\"source :\",source)\n",
    "        fp,lat = dag.all_fastest_paths_ss(source)\n",
    "        print(\"\\tlat :\",lat)\n",
    "        print(\"\\tfp :\",fp)\n",
    "    break"
   ]
  },
  {
   "cell_type": "code",
   "execution_count": null,
   "metadata": {},
   "outputs": [],
   "source": [
    "list_WCC,node_to_id_wcc = S.wcc_as_substreams()  # Getting list WCC\n",
    "wcc_node_to_stream_node = {tuple(j) : k for k,v in node_to_id_wcc.items() for j in v}\n",
    "# print(wcc_node_to_stream_node)\n",
    "for G in list_WCC:\n",
    "    if G.links:\n",
    "        print(\"\\n ID :\",G.id)\n",
    "        G.plot()\n",
    "        for v in G.nodes:\n",
    "            print(v,\" : \",wcc_node_to_stream_node[(G.id,v)])\n"
   ]
  },
  {
   "cell_type": "code",
   "execution_count": null,
   "metadata": {},
   "outputs": [],
   "source": [
    "list_CDAG = sg.condensation_dag_from_wcc(list_WCC)  # Getting list Condensation DAG from WCC\n",
    "for G in list_CDAG:\n",
    "    if G.c_links:\n",
    "        print(\"\\n id :\",G.id)\n",
    "        G.plot()\n",
    "        nodes = set([n for c in G.c_nodes for n in c.nodes])\n",
    "        for v in nodes:\n",
    "            print(v,\" : \",wcc_node_to_stream_node[(G.id,v)])\n",
    "        "
   ]
  },
  {
   "cell_type": "code",
   "execution_count": null,
   "metadata": {},
   "outputs": [],
   "source": [
    "segmented_node_to_id_wcc = {}\n",
    "for n,np in zip(S.nodes,S.node_presence):\n",
    "    wccs = node_to_id_wcc[n]\n",
    "    for id_wcc,new_n in node_to_id_wcc[n]:\n",
    "        G = list_WCC[id_wcc]\n",
    "        for a,b in zip(G.node_presence[new_n][::2],G.node_presence[new_n][1::2]):\n",
    "            for t0,t1 in zip(np[::2],np[1::2]):\n",
    "                if t0==a and t1 == b:\n",
    "                    segmented_node_to_id_wcc[(t0,t1,n)]=(id_wcc,new_n)\n",
    "                    break\n",
    "print(\"seg to wcc :\",segmented_node_to_id_wcc)"
   ]
  },
  {
   "cell_type": "code",
   "execution_count": null,
   "metadata": {},
   "outputs": [],
   "source": [
    "D,L = {},{}\n",
    "# On Whole Stream Graph\n",
    "dag = S.condensation_dag()\n",
    "for n,np in zip(S.nodes,S.node_presence):\n",
    "    for t0,t1 in zip(np[::2],np[1::2]):\n",
    "        source = (t0,t1,n)\n",
    "        print(\"\\nSource :\",source)\n",
    "        l,d = dag.all_fastest_paths_ss(source)\n",
    "        for destination in l:\n",
    "            print(destination,\":\",d[destination])\n",
    "            print(l[destination])\n",
    "#         D[source] = d\n",
    "#         L[source] = l"
   ]
  },
  {
   "cell_type": "code",
   "execution_count": null,
   "metadata": {},
   "outputs": [],
   "source": [
    "D,L = {},{}\n",
    "# On Whole Stream Graph\n",
    "dag = S.condensation_dag()\n",
    "for n,np in zip(S.nodes,S.node_presence):\n",
    "    for t0,t1 in zip(np[::2],np[1::2]):\n",
    "        source = (t0,t1,n)\n",
    "        print(\"\\nSource :\",source)\n",
    "        l,d = dag.shortest_fastest_path_ss(source)\n",
    "        print(\"latencies SFP :\",l)\n",
    "        print(\"lengths SFP :\",d)"
   ]
  },
  {
   "cell_type": "code",
   "execution_count": null,
   "metadata": {},
   "outputs": [],
   "source": [
    "# On WCC substreams\n",
    "for n,np in zip(S.nodes,S.node_presence):\n",
    "    for t0,t1 in zip(np[::2],np[1::2]):\n",
    "        source = (t0,t1,n)\n",
    "        print(\"\\nSource :\",source)\n",
    "        id_wcc,new_n = segmented_node_to_id_wcc[source]\n",
    "        G = list_WCC[id_wcc]\n",
    "        l,d = G.shortest_fastest_path((t0,t1,new_n))\n",
    "        new_l,new_d = {},{}\n",
    "        for k,v in l.items():\n",
    "            new_l[wcc_node_to_stream_node[(G.id,k)]] = v\n",
    "        for k,v in d.items():\n",
    "            new_d[wcc_node_to_stream_node[(G.id,k)]]=v\n",
    "        print(\"length SFP :\",new_d)\n",
    "        print(\"latencies SFP :\",new_l)\n",
    "        assert new_d == D[source]\n",
    "        assert new_l == L[source]"
   ]
  },
  {
   "cell_type": "code",
   "execution_count": null,
   "metadata": {},
   "outputs": [],
   "source": [
    "# On substreams stems from DAG Path:\n",
    "for n,np in zip(S.nodes,S.node_presence):\n",
    "    for t0,t1 in zip(np[::2],np[1::2]):\n",
    "        source = (t0,t1,n)\n",
    "        print(\"\\nSource :\",source)\n",
    "        id_wcc,new_n = segmented_node_to_id_wcc[source]\n",
    "        G = list_CDAG[id_wcc]\n",
    "        new_l = {}\n",
    "        fastest_path = {}\n",
    "        for n2,np2 in zip(list_WCC[id_wcc].nodes,list_WCC[id_wcc].node_presence):\n",
    "            for a,b in zip(np2[::2],np2[1::2]):\n",
    "                print(\"\\tdestination :\",(a,b,wcc_node_to_stream_node[(G.id,n2)]))\n",
    "                fp,l = G.fastest_path(source = (t0,t1,new_n), destination = (a,b,n2))\n",
    "                print(\"\\tl :\",l)\n",
    "                if fp is not None:\n",
    "                    if wcc_node_to_stream_node[(G.id,n2)] in new_l:\n",
    "                        if l <= new_l[wcc_node_to_stream_node[(G.id,n2)]]:\n",
    "                            new_l[wcc_node_to_stream_node[(G.id,n2)]] = l\n",
    "                            fastest_path[wcc_node_to_stream_node[(G.id,n2)]] = fp\n",
    "                    else:\n",
    "                        new_l[wcc_node_to_stream_node[(G.id,n2)]] = l\n",
    "                        fastest_path[wcc_node_to_stream_node[(G.id,n2)]] = fp\n",
    "        G.plot()            \n",
    "        for k,v in fastest_path.items():\n",
    "            print(\"destination :\",k)\n",
    "            print(\"Path :\",v)\n",
    "            H = G.condensation_path_as_substream(v)\n",
    "            H.plot()\n",
    "            \n",
    "        print(\"latencies SFP :\",new_l)   \n",
    "        break\n",
    "    break\n",
    "#         new_l,new_d = {},{}\n",
    "#         for k,v in l.items():\n",
    "#             new_l[wcc_node_to_stream_node[(G.id,k)]] = v\n",
    "#         for k,v in d.items():\n",
    "#             new_d[wcc_node_to_stream_node[(G.id,k)]]=v\n",
    "#         print(\"length SFP :\",new_d)\n",
    "#         print(\"latencies SFP :\",new_l)"
   ]
  }
 ],
 "metadata": {
  "kernelspec": {
   "display_name": "Python 3",
   "language": "python",
   "name": "python3"
  },
  "language_info": {
   "codemirror_mode": {
    "name": "ipython",
    "version": 3
   },
   "file_extension": ".py",
   "mimetype": "text/x-python",
   "name": "python",
   "nbconvert_exporter": "python",
   "pygments_lexer": "ipython3",
   "version": "3.6.7"
  }
 },
 "nbformat": 4,
 "nbformat_minor": 2
}
