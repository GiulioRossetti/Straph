{
 "cells": [
  {
   "cell_type": "markdown",
   "metadata": {},
   "source": [
    "**Prerequisites**: \n",
    "    - numpy\n",
    "    - straph\n",
    "    - matplotlib\n",
    "    - seaborn\n",
    "    - networkx"
   ]
  },
  {
   "cell_type": "code",
   "execution_count": 1,
   "metadata": {},
   "outputs": [],
   "source": [
    "import sys,os\n",
    "import matplotlib.pyplot as plt\n",
    "import numpy as np"
   ]
  },
  {
   "cell_type": "code",
   "execution_count": 2,
   "metadata": {},
   "outputs": [],
   "source": [
    "from straph import stream_graph as sg\n",
    "plt.rcParams[\"figure.figsize\"] = (12,8)"
   ]
  },
  {
   "cell_type": "markdown",
   "metadata": {},
   "source": [
    "# Straph Tutorial"
   ]
  },
  {
   "cell_type": "markdown",
   "metadata": {},
   "source": [
    "## 1. Introduction"
   ]
  },
  {
   "cell_type": "markdown",
   "metadata": {},
   "source": [
    "A stream graph $S = (T,V,W,E)$ is defined by a set of time instants $T$, a finite set of nodes $V$, a set of temporal nodes $W \\subseteq T \\times V$, and a set of links $E\\subseteq T \\times V \\times V$.\n",
    "The set of time instants $T$ can be continuous or discrete. Likewise interactions (temporal links) between two nodes can be discrete $(b,b,u,v)$ or continuous $(b,e,u,v)$."
   ]
  },
  {
   "cell_type": "markdown",
   "metadata": {},
   "source": [
    "Stream graph can be used to model (blabal examples + cf Use Case) (TODO)"
   ]
  },
  {
   "cell_type": "markdown",
   "metadata": {},
   "source": [
    "**Paradigme**: Simple data structures should be represented by built-in python objects, resulting in a more comprehensive, intuitive and efficient code."
   ]
  },
  {
   "cell_type": "markdown",
   "metadata": {},
   "source": [
    "First of all, we load an artificial example that will be used in the following steps of analysis and visualisation."
   ]
  },
  {
   "cell_type": "code",
   "execution_count": 3,
   "metadata": {},
   "outputs": [],
   "source": [
    "path_directory = os.getcwd()+\"/../examples/\"\n",
    "S = sg.read_stream_graph(path_nodes=path_directory + \"example_nodes.sg\",\n",
    "                         path_links=path_directory + \"example_links.sg\")"
   ]
  },
  {
   "cell_type": "markdown",
   "metadata": {},
   "source": [
    "### 1.1 Stream Graph Object"
   ]
  },
  {
   "cell_type": "markdown",
   "metadata": {},
   "source": [
    "A stream graph object is constituted by five principal attributes:\n",
    "- ```times```: the time window of the stream graph ($T$)\n",
    "- ```nodes```: the list of nodes present in the stream graph ($V$)\n",
    "- ```node_presence```: a list of list, each list is associated to a node and contains its presence time ($W$)\n",
    "- ```links```: the list of links present in the stream graph ($E$)\n",
    "- ```node_presence```: a list of list, each list is associated to a link and contains its presence time ($E$)"
   ]
  },
  {
   "cell_type": "code",
   "execution_count": 4,
   "metadata": {},
   "outputs": [
    {
     "data": {
      "text/plain": [
       "[0.0, 10.0]"
      ]
     },
     "execution_count": 4,
     "metadata": {},
     "output_type": "execute_result"
    }
   ],
   "source": [
    "S.times"
   ]
  },
  {
   "cell_type": "markdown",
   "metadata": {},
   "source": [
    "The stream graph ```S``` spans from $0$ to $10$."
   ]
  },
  {
   "cell_type": "code",
   "execution_count": 5,
   "metadata": {},
   "outputs": [
    {
     "data": {
      "text/plain": [
       "[0, 1, 2, 3, 4, 5]"
      ]
     },
     "execution_count": 5,
     "metadata": {},
     "output_type": "execute_result"
    }
   ],
   "source": [
    "S.nodes"
   ]
  },
  {
   "cell_type": "markdown",
   "metadata": {},
   "source": [
    "```S``` contains $6$ nodes.\n",
    "Nodes are always represented by integers, their labels can be stored in the attribute ```node_to_label```."
   ]
  },
  {
   "cell_type": "code",
   "execution_count": 6,
   "metadata": {},
   "outputs": [
    {
     "data": {
      "text/plain": [
       "{0: 'A', 1: 'B', 2: 'C', 3: 'D', 4: 'E', 5: 'F'}"
      ]
     },
     "execution_count": 6,
     "metadata": {},
     "output_type": "execute_result"
    }
   ],
   "source": [
    "S.node_to_label"
   ]
  },
  {
   "cell_type": "code",
   "execution_count": 7,
   "metadata": {},
   "outputs": [
    {
     "data": {
      "text/plain": [
       "[[0.0, 5.0, 7.0, 10.0],\n",
       " [0.0, 10.0],\n",
       " [0.0, 1.0, 6.0, 10.0],\n",
       " [0.0, 1.0, 2.0, 3.0, 8.0, 10.0],\n",
       " [0.0, 10.0],\n",
       " [0.0, 3.0, 7.0, 10.0]]"
      ]
     },
     "execution_count": 7,
     "metadata": {},
     "output_type": "execute_result"
    }
   ],
   "source": [
    "S.node_presence"
   ]
  },
  {
   "cell_type": "markdown",
   "metadata": {},
   "source": [
    "The fist node $A$ is present from time $0$ to $5$ and again from $7$ to $10$ (cf: the following figure)."
   ]
  },
  {
   "cell_type": "markdown",
   "metadata": {},
   "source": [
    "Links follow the same structure:"
   ]
  },
  {
   "cell_type": "code",
   "execution_count": 8,
   "metadata": {},
   "outputs": [
    {
     "data": {
      "text/plain": [
       "[(0, 1), (1, 2), (1, 4), (2, 4), (3, 2), (3, 4), (4, 5)]"
      ]
     },
     "execution_count": 8,
     "metadata": {},
     "output_type": "execute_result"
    }
   ],
   "source": [
    "S.links"
   ]
  },
  {
   "cell_type": "code",
   "execution_count": 9,
   "metadata": {},
   "outputs": [
    {
     "data": {
      "text/plain": [
       "[[0.0, 4.0, 7.0, 8.0],\n",
       " [6.0, 8.0],\n",
       " [4.0, 4.0],\n",
       " [7.0, 7.0],\n",
       " [0.0, 1.0],\n",
       " [2.0, 3.0, 9.0, 10.0],\n",
       " [0.0, 3.0, 7.0, 10.0]]"
      ]
     },
     "execution_count": 9,
     "metadata": {},
     "output_type": "execute_result"
    }
   ],
   "source": [
    "S.link_presence"
   ]
  },
  {
   "cell_type": "markdown",
   "metadata": {},
   "source": [
    "The link $(E,F)$=$(4,5)$ is present from $0$ to $3$ and from $7$ to $10$ (cf: the following figure)"
   ]
  },
  {
   "cell_type": "markdown",
   "metadata": {},
   "source": [
    "### 1.2 Basic visualisation"
   ]
  },
  {
   "cell_type": "markdown",
   "metadata": {},
   "source": [
    "We refer to this [Notebook](2.1 Drawing.ipynb) for more details on visualisation."
   ]
  },
  {
   "cell_type": "code",
   "execution_count": 10,
   "metadata": {},
   "outputs": [
    {
     "data": {
      "image/png": "[encoded data removed]",
      "text/plain": [
       "<Figure size 864x576 with 1 Axes>"
      ]
     },
     "metadata": {},
     "output_type": "display_data"
    }
   ],
   "source": [
    "S.plot()\n",
    "plt.show()"
   ]
  },
  {
   "cell_type": "markdown",
   "metadata": {},
   "source": [
    "### 1.3 Manipulating a Stream Graph"
   ]
  },
  {
   "cell_type": "markdown",
   "metadata": {},
   "source": [
    "There are several manners to manipulate a Stream Graph:\n",
    "   - Iterating on each node \n",
    "   - Iterating on each link\n",
    "   - Iterating on temporally ordered links\n",
    "   - Iterating on temporally ordered events"
   ]
  },
  {
   "cell_type": "code",
   "execution_count": 11,
   "metadata": {},
   "outputs": [
    {
     "name": "stdout",
     "output_type": "stream",
     "text": [
      "Node  A  is present from  0.0  to  5.0\n",
      "Node  A  is present from  7.0  to  10.0\n",
      "Node  B  is present from  0.0  to  10.0\n",
      "Node  C  is present from  0.0  to  1.0\n",
      "Node  C  is present from  6.0  to  10.0\n",
      "Node  D  is present from  0.0  to  1.0\n",
      "Node  D  is present from  2.0  to  3.0\n",
      "Node  D  is present from  8.0  to  10.0\n",
      "Node  E  is present from  0.0  to  10.0\n",
      "Node  F  is present from  0.0  to  3.0\n",
      "Node  F  is present from  7.0  to  10.0\n"
     ]
    }
   ],
   "source": [
    "for n,np in zip(S.nodes,S.node_presence):\n",
    "    for b,e in zip(np[::2],np[1::2]):\n",
    "        print(\"Node \",S.node_to_label[n],\" is present from \",b,\" to \",e)"
   ]
  },
  {
   "cell_type": "code",
   "execution_count": 12,
   "metadata": {},
   "outputs": [
    {
     "name": "stdout",
     "output_type": "stream",
     "text": [
      "Link  ('A', 'B')  is present from  0.0  to  4.0\n",
      "Link  ('A', 'B')  is present from  7.0  to  8.0\n",
      "Link  ('B', 'C')  is present from  6.0  to  8.0\n",
      "Link  ('B', 'E')  is present from  4.0  to  4.0\n",
      "Link  ('C', 'E')  is present from  7.0  to  7.0\n",
      "Link  ('D', 'C')  is present from  0.0  to  1.0\n",
      "Link  ('D', 'E')  is present from  2.0  to  3.0\n",
      "Link  ('D', 'E')  is present from  9.0  to  10.0\n",
      "Link  ('E', 'F')  is present from  0.0  to  3.0\n",
      "Link  ('E', 'F')  is present from  7.0  to  10.0\n"
     ]
    }
   ],
   "source": [
    "for l,lp in zip(S.links,S.link_presence):\n",
    "    for b,e in zip(lp[::2],lp[1::2]):\n",
    "        u,v = l\n",
    "        print(\"Link \",(S.node_to_label[u],S.node_to_label[v]),\" is present from \",b,\" to \",e)"
   ]
  },
  {
   "cell_type": "code",
   "execution_count": 13,
   "metadata": {},
   "outputs": [
    {
     "name": "stdout",
     "output_type": "stream",
     "text": [
      "Link arrival : (1, 0.0, 4.0, 0, 1)\n",
      "Link arrival : (1, 0.0, 1.0, 3, 2)\n",
      "Link arrival : (1, 0.0, 3.0, 4, 5)\n",
      "Link departure : (-1, 1.0, 3, 2)\n",
      "Link arrival : (1, 2.0, 3.0, 3, 4)\n",
      "Link departure : (-1, 3.0, 3, 4)\n",
      "Link departure : (-1, 3.0, 4, 5)\n",
      "Link arrival : (1, 4.0, 4.0, 1, 4)\n",
      "Link departure : (-1, 4.0, 0, 1)\n",
      "Link departure : (-1, 4.0, 1, 4)\n",
      "Link arrival : (1, 6.0, 8.0, 1, 2)\n",
      "Link arrival : (1, 7.0, 8.0, 0, 1)\n",
      "Link arrival : (1, 7.0, 7.0, 2, 4)\n",
      "Link arrival : (1, 7.0, 10.0, 4, 5)\n",
      "Link departure : (-1, 7.0, 2, 4)\n",
      "Link departure : (-1, 8.0, 0, 1)\n",
      "Link departure : (-1, 8.0, 1, 2)\n",
      "Link arrival : (1, 9.0, 10.0, 3, 4)\n",
      "Link departure : (-1, 10.0, 3, 4)\n",
      "Link departure : (-1, 10.0, 4, 5)\n"
     ]
    }
   ],
   "source": [
    "for l in S.ordered_links():\n",
    "    if l[0] == 1:\n",
    "        print(\"Link arrival :\",l)\n",
    "    if l[0] == -1:\n",
    "        print(\"Link departure :\",l)"
   ]
  },
  {
   "cell_type": "code",
   "execution_count": 14,
   "metadata": {},
   "outputs": [
    {
     "name": "stdout",
     "output_type": "stream",
     "text": [
      "Node arrival : (2, 0.0, 5.0, 0)\n",
      "Node arrival : (2, 0.0, 10.0, 1)\n",
      "Node arrival : (2, 0.0, 1.0, 2)\n",
      "Node arrival : (2, 0.0, 1.0, 3)\n",
      "Node arrival : (2, 0.0, 10.0, 4)\n",
      "Node arrival : (2, 0.0, 3.0, 5)\n",
      "Link arrival : (1, 0.0, 4.0, 0, 1, 1, 0)\n",
      "Link arrival : (1, 0.0, 1.0, 3, 2, 1, 0)\n",
      "Link arrival : (1, 0.0, 3.0, 4, 5, 1, 0)\n",
      "Link departure : (-1, 1.0, 3, 2, 1, 0)\n",
      "Node departure : (-2, 1.0, 2)\n",
      "Node departure : (-2, 1.0, 3)\n",
      "Node arrival : (2, 2.0, 3.0, 3)\n",
      "Link arrival : (1, 2.0, 3.0, 3, 4, 1, 0)\n",
      "Link departure : (-1, 3.0, 3, 4, 1, 0)\n",
      "Link departure : (-1, 3.0, 4, 5, 1, 0)\n",
      "Node departure : (-2, 3.0, 3)\n",
      "Node departure : (-2, 3.0, 5)\n",
      "Link arrival : (1, 4.0, 4.0, 1, 4, 1, 0)\n",
      "Link departure : (-1, 4.0, 0, 1, 1, 0)\n",
      "Link departure : (-1, 4.0, 1, 4, 1, 0)\n",
      "Node departure : (-2, 5.0, 0)\n",
      "Node arrival : (2, 6.0, 10.0, 2)\n",
      "Link arrival : (1, 6.0, 8.0, 1, 2, 1, 0)\n",
      "Node arrival : (2, 7.0, 10.0, 0)\n",
      "Node arrival : (2, 7.0, 10.0, 5)\n",
      "Link arrival : (1, 7.0, 8.0, 0, 1, 1, 0)\n",
      "Link arrival : (1, 7.0, 7.0, 2, 4, 1, 0)\n",
      "Link arrival : (1, 7.0, 10.0, 4, 5, 1, 0)\n",
      "Link departure : (-1, 7.0, 2, 4, 1, 0)\n",
      "Node arrival : (2, 8.0, 10.0, 3)\n",
      "Link departure : (-1, 8.0, 0, 1, 1, 0)\n",
      "Link departure : (-1, 8.0, 1, 2, 1, 0)\n",
      "Link arrival : (1, 9.0, 10.0, 3, 4, 1, 0)\n",
      "Link departure : (-1, 10.0, 3, 4, 1, 0)\n",
      "Link departure : (-1, 10.0, 4, 5, 1, 0)\n",
      "Node departure : (-2, 10.0, 0)\n",
      "Node departure : (-2, 10.0, 1)\n",
      "Node departure : (-2, 10.0, 2)\n",
      "Node departure : (-2, 10.0, 3)\n",
      "Node departure : (-2, 10.0, 4)\n",
      "Node departure : (-2, 10.0, 5)\n"
     ]
    }
   ],
   "source": [
    "for e in S.ordered_events():\n",
    "    if e[0] == 1:\n",
    "        print(\"Link arrival :\",e)\n",
    "    if e[0] == -1:\n",
    "        print(\"Link departure :\",e)\n",
    "    if e[0] == 2:\n",
    "        print(\"Node arrival :\",e)\n",
    "    if e[0] == -2:\n",
    "        print(\"Node departure :\",e)"
   ]
  },
  {
   "cell_type": "markdown",
   "metadata": {},
   "source": [
    "## 2. Properties"
   ]
  },
  {
   "cell_type": "markdown",
   "metadata": {},
   "source": [
    "Most of the concepts described in the formalism : [*Stream Graphs and Link Streams for the Modeling of Interactions over Time*](https://arxiv.org/abs/1710.04073) are implemented in Straph. However some concepts also refer to graph theory to avoid any confusion... (TODO) "
   ]
  },
  {
   "cell_type": "markdown",
   "metadata": {},
   "source": [
    "### Number of Nodes and Links"
   ]
  },
  {
   "cell_type": "markdown",
   "metadata": {},
   "source": [
    "The *number of nodes* is defined by $\\Large \\frac{|W|}{|T|}$."
   ]
  },
  {
   "cell_type": "code",
   "execution_count": 15,
   "metadata": {},
   "outputs": [
    {
     "data": {
      "text/plain": [
       "4.3"
      ]
     },
     "execution_count": 15,
     "metadata": {},
     "output_type": "execute_result"
    }
   ],
   "source": [
    "nb_nodes = S.nb_nodes()\n",
    "nb_nodes"
   ]
  },
  {
   "cell_type": "markdown",
   "metadata": {},
   "source": [
    "If one wants the number of elements in $V$:"
   ]
  },
  {
   "cell_type": "code",
   "execution_count": 16,
   "metadata": {},
   "outputs": [
    {
     "data": {
      "text/plain": [
       "6"
      ]
     },
     "execution_count": 16,
     "metadata": {},
     "output_type": "execute_result"
    }
   ],
   "source": [
    "len(S.nodes)"
   ]
  },
  {
   "cell_type": "markdown",
   "metadata": {},
   "source": [
    "The *number of links* is defined by $\\Large \\frac{|E|}{|T|}$"
   ]
  },
  {
   "cell_type": "code",
   "execution_count": 17,
   "metadata": {},
   "outputs": [
    {
     "data": {
      "text/plain": [
       "1.6"
      ]
     },
     "execution_count": 17,
     "metadata": {},
     "output_type": "execute_result"
    }
   ],
   "source": [
    "nb_links = S.nb_links()\n",
    "nb_links"
   ]
  },
  {
   "cell_type": "markdown",
   "metadata": {},
   "source": [
    "If one want the number of distincts links in $E$ (number of elements in $E_{V\\times V}$)."
   ]
  },
  {
   "cell_type": "code",
   "execution_count": 18,
   "metadata": {},
   "outputs": [
    {
     "data": {
      "text/plain": [
       "7"
      ]
     },
     "execution_count": 18,
     "metadata": {},
     "output_type": "execute_result"
    }
   ],
   "source": [
    "len(S.links)"
   ]
  },
  {
   "cell_type": "markdown",
   "metadata": {},
   "source": [
    "### Nodes and Links duration"
   ]
  },
  {
   "cell_type": "markdown",
   "metadata": {},
   "source": [
    "The *node duration* is defined by $\\Large \\frac{|W|}{|V|}$."
   ]
  },
  {
   "cell_type": "code",
   "execution_count": 19,
   "metadata": {},
   "outputs": [
    {
     "data": {
      "text/plain": [
       "7.166666666666667"
      ]
     },
     "execution_count": 19,
     "metadata": {},
     "output_type": "execute_result"
    }
   ],
   "source": [
    "node_duration = S.node_duration()\n",
    "node_duration"
   ]
  },
  {
   "cell_type": "markdown",
   "metadata": {},
   "source": [
    "The *link duration* is defined by $\\Large \\frac{|E|}{|V \\times V|}$."
   ]
  },
  {
   "cell_type": "code",
   "execution_count": 20,
   "metadata": {},
   "outputs": [
    {
     "data": {
      "text/plain": [
       "1.0666666666666667"
      ]
     },
     "execution_count": 20,
     "metadata": {},
     "output_type": "execute_result"
    }
   ],
   "source": [
    "link_duration = S.link_duration()\n",
    "link_duration"
   ]
  },
  {
   "cell_type": "markdown",
   "metadata": {},
   "source": [
    "### Uniformity and Coverage"
   ]
  },
  {
   "cell_type": "markdown",
   "metadata": {},
   "source": [
    "The *uniformity* is defined by \n",
    "$$ \\frac{\\sum_{uv\\in V \\times V}|T_u \\cap T_v|}{\\sum_{uv\\in V \\times V}|T_u \\cup T_v|}$$"
   ]
  },
  {
   "cell_type": "code",
   "execution_count": 21,
   "metadata": {},
   "outputs": [
    {
     "data": {
      "text/plain": [
       "0.2515527950310559"
      ]
     },
     "execution_count": 21,
     "metadata": {},
     "output_type": "execute_result"
    }
   ],
   "source": [
    "unif = S.uniformity()\n",
    "unif"
   ]
  },
  {
   "cell_type": "markdown",
   "metadata": {},
   "source": [
    "The *coverage* is defined by $\\Large \\frac{|W|}{|T \\times V|}$."
   ]
  },
  {
   "cell_type": "code",
   "execution_count": 22,
   "metadata": {},
   "outputs": [
    {
     "data": {
      "text/plain": [
       "0.7166666666666667"
      ]
     },
     "execution_count": 22,
     "metadata": {},
     "output_type": "execute_result"
    }
   ],
   "source": [
    "cov = S.coverage()\n",
    "cov"
   ]
  },
  {
   "cell_type": "markdown",
   "metadata": {},
   "source": [
    "### Nodes and Links weights"
   ]
  },
  {
   "cell_type": "markdown",
   "metadata": {},
   "source": [
    "Node and link weights capture information on nodes and links density over time:"
   ]
  },
  {
   "cell_type": "code",
   "execution_count": 30,
   "metadata": {},
   "outputs": [
    {
     "name": "stdout",
     "output_type": "stream",
     "text": [
      "Node weight at instant 3 : 0.8333333333333334\n",
      "Link weight at instant 3 : 0.2\n"
     ]
    },
    {
     "data": {
      "image/png": "[encoded data removed]",
      "text/plain": [
       "<Figure size 864x576 with 1 Axes>"
      ]
     },
     "metadata": {},
     "output_type": "display_data"
    },
    {
     "data": {
      "image/png": "[encoded data removed]",
      "text/plain": [
       "<Figure size 864x576 with 1 Axes>"
      ]
     },
     "metadata": {},
     "output_type": "display_data"
    }
   ],
   "source": [
    "print(\"Node weight at instant 3 :\", S.node_weight_at_t(3))\n",
    "print(\"Link weight at instant 3 :\", S.link_weight_at_t(3))\n",
    "S.plot_node_weight()\n",
    "S.plot_link_weight()"
   ]
  },
  {
   "cell_type": "markdown",
   "metadata": {},
   "source": [
    "### Node and Link Densities"
   ]
  },
  {
   "cell_type": "markdown",
   "metadata": {},
   "source": [
    "A node *density* is defined by $$\\delta(v) = \\frac{\\sum_{u\\in V, u\\neq v}|T_{uv}|}{\\sum_{u\\in V, u \\neq v}|T_u \\cap T_v|} $$"
   ]
  },
  {
   "cell_type": "code",
   "execution_count": 33,
   "metadata": {},
   "outputs": [
    {
     "data": {
      "text/plain": [
       "Counter({0: 0.16666666666666666,\n",
       "         1: 0.21212121212121213,\n",
       "         2: 0.14285714285714285,\n",
       "         3: 0.15789473684210525,\n",
       "         4: 0.24242424242424243,\n",
       "         5: 0.23076923076923078})"
      ]
     },
     "execution_count": 33,
     "metadata": {},
     "output_type": "execute_result"
    }
   ],
   "source": [
    "node_density = S.node_densities()\n",
    "node_density"
   ]
  },
  {
   "cell_type": "markdown",
   "metadata": {},
   "source": [
    "A link *density* is defined by $$\\delta(uv) = \\frac{|T_{uv}|}{|T_u \\cap T_v|}$$"
   ]
  },
  {
   "cell_type": "code",
   "execution_count": 32,
   "metadata": {},
   "outputs": [
    {
     "data": {
      "text/plain": [
       "Counter({(0, 1): 0.625,\n",
       "         (1, 2): 0.4,\n",
       "         (1, 4): 0.0,\n",
       "         (2, 4): 0.0,\n",
       "         (3, 2): 0.3333333333333333,\n",
       "         (3, 4): 0.5,\n",
       "         (4, 5): 1.0})"
      ]
     },
     "execution_count": 32,
     "metadata": {},
     "output_type": "execute_result"
    }
   ],
   "source": [
    "link_density = S.link_densities()\n",
    "link_density"
   ]
  },
  {
   "cell_type": "markdown",
   "metadata": {},
   "source": [
    "### Neighbors and Neighborhood"
   ]
  },
  {
   "cell_type": "markdown",
   "metadata": {},
   "source": [
    "The *neighborhood* is defined by "
   ]
  },
  {
   "cell_type": "code",
   "execution_count": 35,
   "metadata": {},
   "outputs": [
    {
     "data": {
      "text/plain": [
       "{0: {1: [0.0, 4.0, 7.0, 8.0]},\n",
       " 1: {0: [0.0, 4.0, 7.0, 8.0], 2: [6.0, 8.0], 4: [4.0, 4.0]},\n",
       " 2: {1: [6.0, 8.0], 4: [7.0, 7.0], 3: [0.0, 1.0]},\n",
       " 3: {2: [0.0, 1.0], 4: [2.0, 3.0, 9.0, 10.0]},\n",
       " 4: {1: [4.0, 4.0],\n",
       "  2: [7.0, 7.0],\n",
       "  3: [2.0, 3.0, 9.0, 10.0],\n",
       "  5: [0.0, 3.0, 7.0, 10.0]},\n",
       " 5: {4: [0.0, 3.0, 7.0, 10.0]}}"
      ]
     },
     "execution_count": 35,
     "metadata": {},
     "output_type": "execute_result"
    }
   ],
   "source": [
    "Ngh = S.neighborhood()\n",
    "Ngh"
   ]
  },
  {
   "cell_type": "code",
   "execution_count": 36,
   "metadata": {},
   "outputs": [
    {
     "data": {
      "text/plain": [
       "Counter({0: 1, 1: 3, 2: 3, 4: 4, 3: 2, 5: 1})"
      ]
     },
     "execution_count": 36,
     "metadata": {},
     "output_type": "execute_result"
    }
   ],
   "source": [
    "nb_neighbors = S.nb_neighbors()\n",
    "nb_neighbors"
   ]
  },
  {
   "cell_type": "markdown",
   "metadata": {},
   "source": [
    "### Degrees and Expected Degrees"
   ]
  },
  {
   "cell_type": "code",
   "execution_count": 27,
   "metadata": {},
   "outputs": [
    {
     "data": {
      "text/plain": [
       "Counter({0: 0.5,\n",
       "         1: 0.7,\n",
       "         2: 0.30000000000000004,\n",
       "         4: 0.8,\n",
       "         3: 0.30000000000000004,\n",
       "         5: 0.6})"
      ]
     },
     "execution_count": 27,
     "metadata": {},
     "output_type": "execute_result"
    }
   ],
   "source": [
    "nodes_degree = S.degrees()\n",
    "nodes_degree"
   ]
  },
  {
   "cell_type": "code",
   "execution_count": 28,
   "metadata": {},
   "outputs": [
    {
     "ename": "NameError",
     "evalue": "name 'nodes_degrees' is not defined",
     "output_type": "error",
     "traceback": [
      "\u001b[0;31m---------------------------------------------------------------------------\u001b[0m",
      "\u001b[0;31mNameError\u001b[0m                                 Traceback (most recent call last)",
      "\u001b[0;32m<ipython-input-28-5eb322ca4174>\u001b[0m in \u001b[0;36m<module>\u001b[0;34m()\u001b[0m\n\u001b[0;32m----> 1\u001b[0;31m \u001b[0mnodes_expected_degree\u001b[0m \u001b[0;34m=\u001b[0m \u001b[0mS\u001b[0m\u001b[0;34m.\u001b[0m\u001b[0mexpected_node_degrees\u001b[0m\u001b[0;34m(\u001b[0m\u001b[0md\u001b[0m \u001b[0;34m=\u001b[0m \u001b[0mnodes_degrees\u001b[0m\u001b[0;34m)\u001b[0m\u001b[0;34m\u001b[0m\u001b[0;34m\u001b[0m\u001b[0m\n\u001b[0m\u001b[1;32m      2\u001b[0m \u001b[0mnodes_expected_degree\u001b[0m\u001b[0;34m\u001b[0m\u001b[0;34m\u001b[0m\u001b[0m\n",
      "\u001b[0;31mNameError\u001b[0m: name 'nodes_degrees' is not defined"
     ]
    }
   ],
   "source": [
    "nodes_expected_degree = S.expected_node_degrees(d = nodes_degrees)\n",
    "nodes_expected_degree"
   ]
  },
  {
   "cell_type": "code",
   "execution_count": null,
   "metadata": {},
   "outputs": [],
   "source": [
    "d_bar = S.average_degree(d=nodes_degrees)\n",
    "print(\"Average degree :\\t\", d_bar)\n",
    "print(\"Degree of S :\", S.stream_graph_degree())\n",
    "print(\"Expected degree of S :\", S.expected_stream_graph_degree())"
   ]
  },
  {
   "cell_type": "markdown",
   "metadata": {},
   "source": [
    "### Clustering Coefficient"
   ]
  },
  {
   "cell_type": "code",
   "execution_count": null,
   "metadata": {},
   "outputs": [],
   "source": [
    "cc = S.clustering_coefficient()\n",
    "print(\"Clustering coefficient :\\t\", cc)\n",
    "cc_bar = S.average_clustering(cc=cc)\n",
    "print(\"Average clustering : \\t\", cc_bar)"
   ]
  },
  {
   "cell_type": "markdown",
   "metadata": {},
   "source": [
    "## Components"
   ]
  },
  {
   "cell_type": "markdown",
   "metadata": {},
   "source": [
    "### Degrees"
   ]
  },
  {
   "cell_type": "code",
   "execution_count": null,
   "metadata": {},
   "outputs": [],
   "source": [
    "degrees = S.degrees_partition()\n",
    "S.plot_dict_clusters(dict_clusters=degrees,title=\"Degree\")"
   ]
  },
  {
   "cell_type": "markdown",
   "metadata": {},
   "source": [
    "### Weakly Connected Components (WCC)"
   ]
  },
  {
   "cell_type": "code",
   "execution_count": null,
   "metadata": {},
   "outputs": [],
   "source": [
    "wcc = S.weakly_connected_components()\n",
    "S.plot(clusters=wcc,title=\"Weakly Connected Components\")"
   ]
  },
  {
   "cell_type": "markdown",
   "metadata": {},
   "source": [
    "### Strongly Connected Components (SCC)"
   ]
  },
  {
   "cell_type": "markdown",
   "metadata": {},
   "source": [
    "G is the condensation graph of the Stream Graph S. Each node of G corresponds to a SCC of S."
   ]
  },
  {
   "cell_type": "markdown",
   "metadata": {},
   "source": [
    "We can plot the SCC in the same way as WCC."
   ]
  },
  {
   "cell_type": "code",
   "execution_count": null,
   "metadata": {},
   "outputs": [],
   "source": [
    "scc = S.strongly_connected_components()\n",
    "S.plot(clusters=scc,title=\"Strongly Connected Components\")"
   ]
  },
  {
   "cell_type": "markdown",
   "metadata": {},
   "source": [
    "### Condensation"
   ]
  },
  {
   "cell_type": "code",
   "execution_count": null,
   "metadata": {},
   "outputs": [],
   "source": [
    "G = S.condensation_dag() \n",
    "G.plot()"
   ]
  },
  {
   "cell_type": "markdown",
   "metadata": {},
   "source": [
    "### K-cores"
   ]
  },
  {
   "cell_type": "code",
   "execution_count": null,
   "metadata": {},
   "outputs": [],
   "source": [
    "S.k_cores # Add other functions"
   ]
  },
  {
   "cell_type": "markdown",
   "metadata": {},
   "source": [
    "### K-cliques"
   ]
  },
  {
   "cell_type": "code",
   "execution_count": null,
   "metadata": {},
   "outputs": [],
   "source": [
    "S.k_cliques # add otehr functions"
   ]
  },
  {
   "cell_type": "markdown",
   "metadata": {},
   "source": [
    "For temporal paths we refer to the specific notebook stream_graphs_paths.ipynb"
   ]
  }
 ],
 "metadata": {
  "kernelspec": {
   "display_name": "Python 3",
   "language": "python",
   "name": "python3"
  },
  "language_info": {
   "codemirror_mode": {
    "name": "ipython",
    "version": 3
   },
   "file_extension": ".py",
   "mimetype": "text/x-python",
   "name": "python",
   "nbconvert_exporter": "python",
   "pygments_lexer": "ipython3",
   "version": "3.6.7"
  }
 },
 "nbformat": 4,
 "nbformat_minor": 2
}
