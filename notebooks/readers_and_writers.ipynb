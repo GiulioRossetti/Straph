{
 "cells": [
  {
   "cell_type": "code",
   "execution_count": 1,
   "metadata": {},
   "outputs": [],
   "source": [
    "import os\n",
    "from straph import stream as sg\n",
    "from straph import parser "
   ]
  },
  {
   "cell_type": "markdown",
   "metadata": {},
   "source": [
    "In this notebook we will see how to read different formats of temporal graphs in order to use them in Stream Graphs."
   ]
  },
  {
   "cell_type": "markdown",
   "metadata": {},
   "source": [
    "# 1. Readers"
   ]
  },
  {
   "cell_type": "markdown",
   "metadata": {},
   "source": [
    "Firstly, we show how to load different formats of '.csv' as most of temporal graphs are stored as triplets $(t,u,v)$ or quadruplets $(b,e,u,v)$ or $(t,\\delta,u,v)$."
   ]
  },
  {
   "cell_type": "markdown",
   "metadata": {},
   "source": [
    "## 1.1 '.csv' format"
   ]
  },
  {
   "cell_type": "markdown",
   "metadata": {},
   "source": [
    "We must specify what we call the *entry_format*, i.e whether the format is $(t,u,v)$ or $(b,e,u,v)$ and which column of the .csv contains which value.\n",
    "For example if the first column contains the date of the interaction between the entity of the second column and the entity of the third colum: "
   ]
  },
  {
   "cell_type": "code",
   "execution_count": null,
   "metadata": {},
   "outputs": [],
   "source": [
    "entry_format = {'t_pos': 0,'u_pos':1,'v_pos':2}"
   ]
  },
  {
   "cell_type": "markdown",
   "metadata": {},
   "source": [
    "If the first column contains the first node, the second column the second node, the third column the beginnning of the interaction and the fourth the ending of the interaction:"
   ]
  },
  {
   "cell_type": "code",
   "execution_count": null,
   "metadata": {},
   "outputs": [],
   "source": [
    "entry_format = {'u_pos':0,'v_pos':1,'b_pos':2,'e_pos':3}"
   ]
  },
  {
   "cell_type": "markdown",
   "metadata": {},
   "source": [
    "If the raw data contains the duration of the interaction and its beginning instead of its beginning and ending we can specify it:"
   ]
  },
  {
   "cell_type": "code",
   "execution_count": null,
   "metadata": {},
   "outputs": [],
   "source": [
    "entry_format = {'u_pos':0,'v_pos':1,'t_pos':2,'delta_pos':3}"
   ]
  },
  {
   "cell_type": "markdown",
   "metadata": {},
   "source": [
    "The parser also takes a configuration input with some optionnal parameters:\n",
    "    - delimiter (as in csv.reader default is ',')\n",
    "    - ignore_header (set to 'True' to skip the first line)\n",
    "    - nodes_to_label (set to 'True' to keep node's labels cf : introduction.ipynb)\n",
    "    - time_is_datetime (set to 'True' if times log are timestamps)\n",
    "    - is_link_stream (if 'True' we consider that nodes are always present)\n",
    "    - nrows (the number of rows to be read)"
   ]
  },
  {
   "cell_type": "code",
   "execution_count": 2,
   "metadata": {},
   "outputs": [
    {
     "name": "stdout",
     "output_type": "stream",
     "text": [
      "Nb of Nodes :  6\n",
      "Nb of segmented nodes :  13.0\n",
      "Nb of links :  7\n",
      "Nb of segmented links :  9.0\n"
     ]
    },
    {
     "data": {
      "image/png": "[encoded data removed]",
      "text/plain": [
       "<Figure size 432x288 with 1 Axes>"
      ]
     },
     "metadata": {},
     "output_type": "display_data"
    }
   ],
   "source": [
    "path_csv = os.getcwd()+\"/examples/example.csv\"\n",
    "entry_format = {'t_pos': 0, 'delta_pos': 1,'u_pos': 2, 'v_pos': 3}\n",
    "config = {'delimiter':';'}\n",
    "S = parser.parser(input_file=path_csv,\n",
    "                  input_format='csv',\n",
    "                  entry_format = entry_format,\n",
    "                 **config)\n",
    "S.plot()\n"
   ]
  },
  {
   "cell_type": "markdown",
   "metadata": {},
   "source": [
    "If we want to set the default duration of an interaction: "
   ]
  },
  {
   "cell_type": "code",
   "execution_count": 3,
   "metadata": {},
   "outputs": [
    {
     "name": "stdout",
     "output_type": "stream",
     "text": [
      "Nb of Nodes :  6\n",
      "Nb of segmented nodes :  9.0\n",
      "Nb of links :  7\n",
      "Nb of segmented links :  9.0\n"
     ]
    },
    {
     "data": {
      "image/png": "[encoded data removed]",
      "text/plain": [
       "<Figure size 432x288 with 1 Axes>"
      ]
     },
     "metadata": {},
     "output_type": "display_data"
    }
   ],
   "source": [
    "path_csv = os.getcwd()+\"/examples/example.csv\"\n",
    "entry_format = {'t_pos': 0 ,'u_pos': 2, 'v_pos': 3}\n",
    "config = {'delimiter':';'}\n",
    "S = parser.parser(input_file=path_csv,\n",
    "                  input_format='csv',\n",
    "                  entry_format = entry_format,\n",
    "                  delta =5,\n",
    "                 **config)\n",
    "S.plot()"
   ]
  },
  {
   "cell_type": "markdown",
   "metadata": {},
   "source": [
    "# 2. Writers"
   ]
  },
  {
   "cell_type": "markdown",
   "metadata": {},
   "source": [
    "## 2.1 '.sg' format"
   ]
  },
  {
   "cell_type": "markdown",
   "metadata": {},
   "source": [
    "## 2.2 '.csv' format"
   ]
  },
  {
   "cell_type": "markdown",
   "metadata": {},
   "source": [
    "## 2.3 '.js' format"
   ]
  },
  {
   "cell_type": "markdown",
   "metadata": {},
   "source": [
    "We can specify an ouput format to *parser*, in order to manipulate only one file:"
   ]
  },
  {
   "cell_type": "code",
   "execution_count": null,
   "metadata": {},
   "outputs": [],
   "source": [
    "path_csv = os.getcwd()+\"/examples/example.csv\"\n",
    "entry_format = {'t_pos': 0 ,'u_pos': 2, 'v_pos': 3}\n",
    "config = {'delimiter':';'}\n",
    "output_format = 'sg'\n",
    "output_file = os.getcwd()+\"/examples/example_to_sg\"\n",
    "S = parser.parser(input_file=path_csv,\n",
    "                  input_format='csv',\n",
    "                  entry_format = entry_format,\n",
    "                  delta =5,\n",
    "                  output_format= output_format,\n",
    "                  output_file = output_file,\n",
    "                 **config)"
   ]
  }
 ],
 "metadata": {
  "kernelspec": {
   "display_name": "Python 3",
   "language": "python",
   "name": "python3"
  },
  "language_info": {
   "codemirror_mode": {
    "name": "ipython",
    "version": 3
   },
   "file_extension": ".py",
   "mimetype": "text/x-python",
   "name": "python",
   "nbconvert_exporter": "python",
   "pygments_lexer": "ipython3",
   "version": "3.6.7"
  }
 },
 "nbformat": 4,
 "nbformat_minor": 2
}
