{
 "cells": [
  {
   "cell_type": "markdown",
   "metadata": {},
   "source": [
    "# Temporal Paths in Stream Graph"
   ]
  },
  {
   "cell_type": "markdown",
   "metadata": {},
   "source": [
    "Important : The less objects the better. Obvious structures should always be represented by built-in python objects as it's more comprehensive, intuitive and efficient."
   ]
  },
  {
   "cell_type": "code",
   "execution_count": 1,
   "metadata": {},
   "outputs": [],
   "source": [
    "import numpy"
   ]
  },
  {
   "cell_type": "code",
   "execution_count": 2,
   "metadata": {},
   "outputs": [],
   "source": [
    "from straph import stream as sg\n",
    "from straph.generator import SG_Generator as gen"
   ]
  },
  {
   "cell_type": "markdown",
   "metadata": {},
   "source": [
    "In this tutorial we will use the example below, feel free to change it."
   ]
  },
  {
   "cell_type": "code",
   "execution_count": 3,
   "metadata": {},
   "outputs": [
    {
     "name": "stdout",
     "output_type": "stream",
     "text": [
      "Nb of Nodes :  7\n",
      "Nb of segmented nodes :  7.0\n",
      "Nb of links :  8\n",
      "Nb of segmented links :  8.0\n"
     ]
    }
   ],
   "source": [
    "__directory__ = \"/home/leo/Dev/CODE/Straph/examples/path_examples/\"\n",
    "__file__ = \"path1\"\n",
    "S = sg.read_stream_graph(path_nodes=__directory__+__file__+\"_nodes.sg\",\n",
    "                         path_links=__directory__+__file__+\"_links.sg\")\n",
    "S.describe()"
   ]
  },
  {
   "cell_type": "code",
   "execution_count": 4,
   "metadata": {},
   "outputs": [
    {
     "data": {
      "image/png": "[encoded data removed]",
      "text/plain": [
       "<Figure size 432x288 with 1 Axes>"
      ]
     },
     "metadata": {},
     "output_type": "display_data"
    }
   ],
   "source": [
    "S.plot()"
   ]
  },
  {
   "cell_type": "code",
   "execution_count": 5,
   "metadata": {},
   "outputs": [
    {
     "name": "stdout",
     "output_type": "stream",
     "text": [
      "A : [0.0, 10.0]\n",
      "B : [0.0, 10.0]\n",
      "C : [4.0, 10.0]\n",
      "D : [6.0, 10.0]\n",
      "E : [0.0, 8.0]\n",
      "F : [0.0, 8.0]\n",
      "G : [0.0, 8.0]\n"
     ]
    }
   ],
   "source": [
    "for n,np in zip(S.nodes,S.node_presence):\n",
    "    print(S.node_to_label[n],\":\",np)"
   ]
  },
  {
   "cell_type": "markdown",
   "metadata": {},
   "source": [
    "# 1: Source - Destination Paths Algorithms"
   ]
  },
  {
   "cell_type": "markdown",
   "metadata": {},
   "source": [
    "In this section we use Straph's API to compute different types of temporal paths. We can consider two types of source and destination : a temporal node $(t_0,t_1,v) \\in \\overline{W}$ or a node $u \\in V$.\n",
    "Resulting in 4 types of paths."
   ]
  },
  {
   "cell_type": "markdown",
   "metadata": {},
   "source": [
    "We consider the following types of temporal paths and their corresponding features:\n",
    "    - Foremost Path - Time To Reach\n",
    "    - Fastest Path - Latency\n",
    "    - Shortest Path - Distance\n",
    "    - Foremost Shortest Path - Distance, Duration\n",
    "    - Fastest Shortest Path - Distance, Duration\n",
    "    - Shortest Fastest Path - Latency, Duration"
   ]
  },
  {
   "cell_type": "code",
   "execution_count": 6,
   "metadata": {},
   "outputs": [],
   "source": [
    "source = (0,10,'A')\n",
    "destination = (0,8,'B')"
   ]
  },
  {
   "cell_type": "code",
   "execution_count": 9,
   "metadata": {},
   "outputs": [
    {
     "name": "stdout",
     "output_type": "stream",
     "text": [
      "{'A': 0}\n"
     ]
    }
   ],
   "source": [
    "# Foremost Path\n",
    "ttr = S.times_to_reach_ss(source)\n",
    "print(ttr)"
   ]
  },
  {
   "cell_type": "code",
   "execution_count": 7,
   "metadata": {},
   "outputs": [
    {
     "ename": "AttributeError",
     "evalue": "'stream_graph' object has no attribute 'time_to_reach'",
     "output_type": "error",
     "traceback": [
      "\u001b[0;31m---------------------------------------------------------------------------\u001b[0m",
      "\u001b[0;31mAttributeError\u001b[0m                            Traceback (most recent call last)",
      "\u001b[0;32mpath1\u001b[0m in \u001b[0;36m<module>\u001b[0;34m()\u001b[0m\n\u001b[1;32m      1\u001b[0m \u001b[0;31m# Foremost Path\u001b[0m\u001b[0;34m\u001b[0m\u001b[0;34m\u001b[0m\u001b[0;34m\u001b[0m\u001b[0m\n\u001b[0;32m----> 2\u001b[0;31m \u001b[0mttr\u001b[0m \u001b[0;34m=\u001b[0m \u001b[0mS\u001b[0m\u001b[0;34m.\u001b[0m\u001b[0mtime_to_reach\u001b[0m\u001b[0;34m(\u001b[0m\u001b[0msource\u001b[0m\u001b[0;34m,\u001b[0m\u001b[0mdestination\u001b[0m\u001b[0;34m)\u001b[0m\u001b[0;34m\u001b[0m\u001b[0;34m\u001b[0m\u001b[0m\n\u001b[0m\u001b[1;32m      3\u001b[0m \u001b[0mfop\u001b[0m \u001b[0;34m=\u001b[0m \u001b[0mS\u001b[0m\u001b[0;34m.\u001b[0m\u001b[0mforemost_path\u001b[0m\u001b[0;34m(\u001b[0m\u001b[0msource\u001b[0m\u001b[0;34m,\u001b[0m\u001b[0mdestination\u001b[0m\u001b[0;34m)\u001b[0m\u001b[0;34m\u001b[0m\u001b[0;34m\u001b[0m\u001b[0m\n\u001b[1;32m      4\u001b[0m \u001b[0;31m# Fastest Path\u001b[0m\u001b[0;34m\u001b[0m\u001b[0;34m\u001b[0m\u001b[0;34m\u001b[0m\u001b[0m\n\u001b[1;32m      5\u001b[0m \u001b[0mlatency\u001b[0m \u001b[0;34m=\u001b[0m \u001b[0mS\u001b[0m\u001b[0;34m.\u001b[0m\u001b[0mlatency\u001b[0m\u001b[0;34m(\u001b[0m\u001b[0msource\u001b[0m\u001b[0;34m,\u001b[0m\u001b[0mdestination\u001b[0m\u001b[0;34m)\u001b[0m\u001b[0;34m\u001b[0m\u001b[0;34m\u001b[0m\u001b[0m\n",
      "\u001b[0;31mAttributeError\u001b[0m: 'stream_graph' object has no attribute 'time_to_reach'"
     ]
    }
   ],
   "source": [
    "# Foremost Path\n",
    "ttr = S.time_to_reach(source,destination)\n",
    "fop = S.foremost_path(source,destination)\n",
    "# Fastest Path\n",
    "latency = S.latency(source,destination)\n",
    "fp = S.fastest_path(source,destination)\n",
    "# Shortest Path\n",
    "distance = S.distance(source,destination)\n",
    "sp = S.shortest_path(source,destination)\n",
    "# Shortest Foremost Path\n",
    "d,l = S.ttr_and_distance_SFOP(source,destination)\n",
    "fosp = S.foremost_shortest_path(source,destination)\n",
    "# Fastest Shortest Path\n",
    "d,l = S.distance_and_duration_FSP(source,destination)\n",
    "fsp = S.fastest_shortest_path(source,destination)\n",
    "# Shortest Fastest Path\n",
    "l,d = S.latency_and_duration_SFP(source,destination)\n",
    "sfp = S.shortest_fastest_path(source,destination)"
   ]
  },
  {
   "cell_type": "markdown",
   "metadata": {},
   "source": [
    "### 1.1 Temporal Source Node - Temporal Destination Node"
   ]
  },
  {
   "cell_type": "markdown",
   "metadata": {},
   "source": [
    "Firstly we use $L-algorithm$ to compute temporal paths:"
   ]
  },
  {
   "cell_type": "markdown",
   "metadata": {},
   "source": [
    "It is possible to plot these paths on top of the stream graph:"
   ]
  },
  {
   "cell_type": "code",
   "execution_count": null,
   "metadata": {},
   "outputs": [],
   "source": [
    "S.plot_path(fp) # TODO : Import fonctions from path object"
   ]
  },
  {
   "cell_type": "markdown",
   "metadata": {},
   "source": [
    "We can also proceed to separate the stream graph into weakly connected components to enable parallel computation or to speed up the computation."
   ]
  },
  {
   "cell_type": "markdown",
   "metadata": {},
   "source": [
    "TODO : Rajouter les WCC substreams comme des attributs d'un objet avec des dictionnaire reliant label au couple (id wcc,new node) our node au couple (id wcc,new node).\n",
    "    Sur cet objet on peut rajouter des methodes avec l'option parallel = True."
   ]
  },
  {
   "cell_type": "code",
   "execution_count": 2,
   "metadata": {},
   "outputs": [
    {
     "ename": "NameError",
     "evalue": "name 'S' is not defined",
     "output_type": "error",
     "traceback": [
      "\u001b[0;31m---------------------------------------------------------------------------\u001b[0m",
      "\u001b[0;31mNameError\u001b[0m                                 Traceback (most recent call last)",
      "\u001b[0;32m<ipython-input-2-e9394eb16152>\u001b[0m in \u001b[0;36m<module>\u001b[0;34m\u001b[0m\n\u001b[0;32m----> 1\u001b[0;31m \u001b[0mlist_wcc\u001b[0m\u001b[0;34m,\u001b[0m \u001b[0mnode_to_wcc\u001b[0m \u001b[0;34m=\u001b[0m \u001b[0mS\u001b[0m\u001b[0;34m.\u001b[0m\u001b[0mwcc_as_substreams\u001b[0m\u001b[0;34m(\u001b[0m\u001b[0;34m)\u001b[0m\u001b[0;34m\u001b[0m\u001b[0;34m\u001b[0m\u001b[0m\n\u001b[0m",
      "\u001b[0;31mNameError\u001b[0m: name 'S' is not defined"
     ]
    }
   ],
   "source": [
    "list_wcc, node_to_wcc = S.wcc_as_substreams()"
   ]
  },
  {
   "cell_type": "markdown",
   "metadata": {},
   "source": [
    "We propose alternative methods to compute Foremost Paht and Fastest Path using the Condensation Graph of $S$."
   ]
  },
  {
   "cell_type": "code",
   "execution_count": null,
   "metadata": {},
   "outputs": [],
   "source": [
    "dag = S.condensation_dag()\n",
    "\n",
    "# Foremost Path\n",
    "ttr = dag.time_to_reach(source,destination)\n",
    "fop = dag.foremost_path(source,destination) # Path in DAG (ok)\n",
    "\n",
    "# Fastest Path\n",
    "latency = dag.latency(source,destination)\n",
    "fp = dag.fastest_path(source,destination) # Path in DAG (ok)\n",
    "\n",
    "# Shortest Fastest Path\n",
    "# TODO : Method Hybrid , path should be in S\n",
    "l,d = dag.latency_and_duration_SFP(S,source,destination)\n",
    "sfp = dag.shortest_fastest_path(S,source,destination) # Path In  Stream\n",
    "\n",
    "# Shortest Foremost Path\n",
    "# TODO : Method Hybrid , path should be in S\n",
    "d,l = dag.ttr_and_distance_SFOP(source,destination)\n",
    "fosp = dag.foremost_shortest_path(source,destination) # Path In Stream"
   ]
  },
  {
   "cell_type": "markdown",
   "metadata": {},
   "source": [
    "### 1.2 Source Node - Temporal Destination Node"
   ]
  },
  {
   "cell_type": "code",
   "execution_count": null,
   "metadata": {},
   "outputs": [],
   "source": [
    "source = ('A')\n",
    "destination = (0,8,'B')"
   ]
  },
  {
   "cell_type": "markdown",
   "metadata": {},
   "source": [
    "### 1.3 Temporal Source Node - Destination Node"
   ]
  },
  {
   "cell_type": "code",
   "execution_count": null,
   "metadata": {},
   "outputs": [],
   "source": [
    "source = (0,10,'A')\n",
    "destination = ('B')"
   ]
  },
  {
   "cell_type": "markdown",
   "metadata": {},
   "source": [
    "### 1.4 Source Node - Destination Node"
   ]
  },
  {
   "cell_type": "code",
   "execution_count": null,
   "metadata": {},
   "outputs": [],
   "source": [
    "source = ('A')\n",
    "destination = ('B')"
   ]
  },
  {
   "cell_type": "markdown",
   "metadata": {},
   "source": [
    "# 2: Single Source Paths Algorithms"
   ]
  },
  {
   "cell_type": "markdown",
   "metadata": {},
   "source": [
    "### 2.1 Temporal Source Node - Temporal Destination Nodes"
   ]
  },
  {
   "cell_type": "code",
   "execution_count": null,
   "metadata": {},
   "outputs": [],
   "source": [
    "source = (0,10,'A')\n",
    "destination = (0,8,'B')"
   ]
  },
  {
   "cell_type": "markdown",
   "metadata": {},
   "source": [
    "### 2.2 Source Node - Temporal Destination Nodes"
   ]
  },
  {
   "cell_type": "code",
   "execution_count": null,
   "metadata": {},
   "outputs": [],
   "source": [
    "source = ('A')\n",
    "destination = (0,8,'B')"
   ]
  },
  {
   "cell_type": "markdown",
   "metadata": {},
   "source": [
    "### 2.3 Temporal Source Node - Destination Nodes"
   ]
  },
  {
   "cell_type": "code",
   "execution_count": null,
   "metadata": {},
   "outputs": [],
   "source": [
    "source = (0,10,'A')\n",
    "destination = ('B')"
   ]
  },
  {
   "cell_type": "markdown",
   "metadata": {},
   "source": [
    "### 2.4 Source Node - Destination Nodes"
   ]
  },
  {
   "cell_type": "code",
   "execution_count": null,
   "metadata": {},
   "outputs": [],
   "source": [
    "source = ('A')\n",
    "destination = ('B')"
   ]
  },
  {
   "cell_type": "markdown",
   "metadata": {},
   "source": [
    "# 3: Pairwise Algorithms"
   ]
  },
  {
   "cell_type": "markdown",
   "metadata": {},
   "source": [
    "### 3.1 Temporal Source Nodes - Temporal Destination Nodes"
   ]
  },
  {
   "cell_type": "code",
   "execution_count": null,
   "metadata": {},
   "outputs": [],
   "source": [
    "source = (0,10,'A')\n",
    "destination = (0,8,'B')"
   ]
  },
  {
   "cell_type": "markdown",
   "metadata": {},
   "source": [
    "### 3.2 Source Nodes - Temporal Destination Nodes"
   ]
  },
  {
   "cell_type": "code",
   "execution_count": null,
   "metadata": {},
   "outputs": [],
   "source": [
    "source = ('A')\n",
    "destination = (0,8,'B')"
   ]
  },
  {
   "cell_type": "markdown",
   "metadata": {},
   "source": [
    "### 3.3 Temporal Source Nodes - Destination Nodes"
   ]
  },
  {
   "cell_type": "code",
   "execution_count": null,
   "metadata": {},
   "outputs": [],
   "source": [
    "source = (0,10,'A')\n",
    "destination = ('B')"
   ]
  },
  {
   "cell_type": "markdown",
   "metadata": {},
   "source": [
    "### 3.4 Source Nodes - Destination Nodes"
   ]
  },
  {
   "cell_type": "code",
   "execution_count": null,
   "metadata": {},
   "outputs": [],
   "source": [
    "source = ('A')\n",
    "destination = ('B')"
   ]
  }
 ],
 "metadata": {
  "kernelspec": {
   "display_name": "Python 3",
   "language": "python",
   "name": "python3"
  },
  "language_info": {
   "codemirror_mode": {
    "name": "ipython",
    "version": 3
   },
   "file_extension": ".py",
   "mimetype": "text/x-python",
   "name": "python",
   "nbconvert_exporter": "python",
   "pygments_lexer": "ipython3",
   "version": "3.6.7"
  }
 },
 "nbformat": 4,
 "nbformat_minor": 2
}
